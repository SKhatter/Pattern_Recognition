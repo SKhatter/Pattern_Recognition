{
 "cells": [
  {
   "cell_type": "code",
   "execution_count": 2,
   "metadata": {
    "collapsed": false
   },
   "outputs": [],
   "source": [
    "import pandas as pd\n",
    "import numpy as np\n",
    "from sklearn.preprocessing import normalize\n",
    "import warnings\n",
    "warnings.filterwarnings('ignore')\n",
    "\n",
    "mnist_path = '/media/UCSD Spring 2017/CSE 291/Homework2/train.csv'\n",
    "mnist_df = pd.read_csv(mnist_path, header=None)"
   ]
  },
  {
   "cell_type": "code",
   "execution_count": 3,
   "metadata": {
    "collapsed": false
   },
   "outputs": [
    {
     "data": {
      "text/html": [
       "<div>\n",
       "<table border=\"1\" class=\"dataframe\">\n",
       "  <thead>\n",
       "    <tr style=\"text-align: right;\">\n",
       "      <th></th>\n",
       "      <th>0</th>\n",
       "      <th>1</th>\n",
       "      <th>2</th>\n",
       "      <th>3</th>\n",
       "      <th>4</th>\n",
       "      <th>5</th>\n",
       "      <th>6</th>\n",
       "      <th>7</th>\n",
       "      <th>8</th>\n",
       "      <th>9</th>\n",
       "      <th>...</th>\n",
       "      <th>775</th>\n",
       "      <th>776</th>\n",
       "      <th>777</th>\n",
       "      <th>778</th>\n",
       "      <th>779</th>\n",
       "      <th>780</th>\n",
       "      <th>781</th>\n",
       "      <th>782</th>\n",
       "      <th>783</th>\n",
       "      <th>784</th>\n",
       "    </tr>\n",
       "  </thead>\n",
       "  <tbody>\n",
       "    <tr>\n",
       "      <th>41996</th>\n",
       "      <td>0</td>\n",
       "      <td>0</td>\n",
       "      <td>0</td>\n",
       "      <td>0</td>\n",
       "      <td>0</td>\n",
       "      <td>0</td>\n",
       "      <td>0</td>\n",
       "      <td>0</td>\n",
       "      <td>0</td>\n",
       "      <td>0</td>\n",
       "      <td>...</td>\n",
       "      <td>0</td>\n",
       "      <td>0</td>\n",
       "      <td>0</td>\n",
       "      <td>0</td>\n",
       "      <td>0</td>\n",
       "      <td>0</td>\n",
       "      <td>0</td>\n",
       "      <td>0</td>\n",
       "      <td>0</td>\n",
       "      <td>0</td>\n",
       "    </tr>\n",
       "    <tr>\n",
       "      <th>41997</th>\n",
       "      <td>1</td>\n",
       "      <td>0</td>\n",
       "      <td>0</td>\n",
       "      <td>0</td>\n",
       "      <td>0</td>\n",
       "      <td>0</td>\n",
       "      <td>0</td>\n",
       "      <td>0</td>\n",
       "      <td>0</td>\n",
       "      <td>0</td>\n",
       "      <td>...</td>\n",
       "      <td>0</td>\n",
       "      <td>0</td>\n",
       "      <td>0</td>\n",
       "      <td>0</td>\n",
       "      <td>0</td>\n",
       "      <td>0</td>\n",
       "      <td>0</td>\n",
       "      <td>0</td>\n",
       "      <td>0</td>\n",
       "      <td>0</td>\n",
       "    </tr>\n",
       "    <tr>\n",
       "      <th>41998</th>\n",
       "      <td>7</td>\n",
       "      <td>0</td>\n",
       "      <td>0</td>\n",
       "      <td>0</td>\n",
       "      <td>0</td>\n",
       "      <td>0</td>\n",
       "      <td>0</td>\n",
       "      <td>0</td>\n",
       "      <td>0</td>\n",
       "      <td>0</td>\n",
       "      <td>...</td>\n",
       "      <td>0</td>\n",
       "      <td>0</td>\n",
       "      <td>0</td>\n",
       "      <td>0</td>\n",
       "      <td>0</td>\n",
       "      <td>0</td>\n",
       "      <td>0</td>\n",
       "      <td>0</td>\n",
       "      <td>0</td>\n",
       "      <td>0</td>\n",
       "    </tr>\n",
       "    <tr>\n",
       "      <th>41999</th>\n",
       "      <td>6</td>\n",
       "      <td>0</td>\n",
       "      <td>0</td>\n",
       "      <td>0</td>\n",
       "      <td>0</td>\n",
       "      <td>0</td>\n",
       "      <td>0</td>\n",
       "      <td>0</td>\n",
       "      <td>0</td>\n",
       "      <td>0</td>\n",
       "      <td>...</td>\n",
       "      <td>0</td>\n",
       "      <td>0</td>\n",
       "      <td>0</td>\n",
       "      <td>0</td>\n",
       "      <td>0</td>\n",
       "      <td>0</td>\n",
       "      <td>0</td>\n",
       "      <td>0</td>\n",
       "      <td>0</td>\n",
       "      <td>0</td>\n",
       "    </tr>\n",
       "    <tr>\n",
       "      <th>42000</th>\n",
       "      <td>9</td>\n",
       "      <td>0</td>\n",
       "      <td>0</td>\n",
       "      <td>0</td>\n",
       "      <td>0</td>\n",
       "      <td>0</td>\n",
       "      <td>0</td>\n",
       "      <td>0</td>\n",
       "      <td>0</td>\n",
       "      <td>0</td>\n",
       "      <td>...</td>\n",
       "      <td>0</td>\n",
       "      <td>0</td>\n",
       "      <td>0</td>\n",
       "      <td>0</td>\n",
       "      <td>0</td>\n",
       "      <td>0</td>\n",
       "      <td>0</td>\n",
       "      <td>0</td>\n",
       "      <td>0</td>\n",
       "      <td>0</td>\n",
       "    </tr>\n",
       "  </tbody>\n",
       "</table>\n",
       "<p>5 rows × 785 columns</p>\n",
       "</div>"
      ],
      "text/plain": [
       "      0   1   2   3   4   5   6   7   8   9   ... 775 776 777 778 779 780 781  \\\n",
       "41996   0   0   0   0   0   0   0   0   0   0 ...   0   0   0   0   0   0   0   \n",
       "41997   1   0   0   0   0   0   0   0   0   0 ...   0   0   0   0   0   0   0   \n",
       "41998   7   0   0   0   0   0   0   0   0   0 ...   0   0   0   0   0   0   0   \n",
       "41999   6   0   0   0   0   0   0   0   0   0 ...   0   0   0   0   0   0   0   \n",
       "42000   9   0   0   0   0   0   0   0   0   0 ...   0   0   0   0   0   0   0   \n",
       "\n",
       "      782 783 784  \n",
       "41996   0   0   0  \n",
       "41997   0   0   0  \n",
       "41998   0   0   0  \n",
       "41999   0   0   0  \n",
       "42000   0   0   0  \n",
       "\n",
       "[5 rows x 785 columns]"
      ]
     },
     "execution_count": 3,
     "metadata": {},
     "output_type": "execute_result"
    }
   ],
   "source": [
    "mnist_df.tail()"
   ]
  },
  {
   "cell_type": "code",
   "execution_count": 4,
   "metadata": {
    "collapsed": false
   },
   "outputs": [],
   "source": [
    "mnist_df=mnist_df.rename(index=int, columns={0: \"class\"})"
   ]
  },
  {
   "cell_type": "code",
   "execution_count": 5,
   "metadata": {
    "collapsed": false
   },
   "outputs": [
    {
     "data": {
      "text/html": [
       "<div>\n",
       "<table border=\"1\" class=\"dataframe\">\n",
       "  <thead>\n",
       "    <tr style=\"text-align: right;\">\n",
       "      <th></th>\n",
       "      <th>class</th>\n",
       "      <th>1</th>\n",
       "      <th>2</th>\n",
       "      <th>3</th>\n",
       "      <th>4</th>\n",
       "      <th>5</th>\n",
       "      <th>6</th>\n",
       "      <th>7</th>\n",
       "      <th>8</th>\n",
       "      <th>9</th>\n",
       "      <th>...</th>\n",
       "      <th>775</th>\n",
       "      <th>776</th>\n",
       "      <th>777</th>\n",
       "      <th>778</th>\n",
       "      <th>779</th>\n",
       "      <th>780</th>\n",
       "      <th>781</th>\n",
       "      <th>782</th>\n",
       "      <th>783</th>\n",
       "      <th>784</th>\n",
       "    </tr>\n",
       "  </thead>\n",
       "  <tbody>\n",
       "    <tr>\n",
       "      <th>41996</th>\n",
       "      <td>0</td>\n",
       "      <td>0</td>\n",
       "      <td>0</td>\n",
       "      <td>0</td>\n",
       "      <td>0</td>\n",
       "      <td>0</td>\n",
       "      <td>0</td>\n",
       "      <td>0</td>\n",
       "      <td>0</td>\n",
       "      <td>0</td>\n",
       "      <td>...</td>\n",
       "      <td>0</td>\n",
       "      <td>0</td>\n",
       "      <td>0</td>\n",
       "      <td>0</td>\n",
       "      <td>0</td>\n",
       "      <td>0</td>\n",
       "      <td>0</td>\n",
       "      <td>0</td>\n",
       "      <td>0</td>\n",
       "      <td>0</td>\n",
       "    </tr>\n",
       "    <tr>\n",
       "      <th>41997</th>\n",
       "      <td>1</td>\n",
       "      <td>0</td>\n",
       "      <td>0</td>\n",
       "      <td>0</td>\n",
       "      <td>0</td>\n",
       "      <td>0</td>\n",
       "      <td>0</td>\n",
       "      <td>0</td>\n",
       "      <td>0</td>\n",
       "      <td>0</td>\n",
       "      <td>...</td>\n",
       "      <td>0</td>\n",
       "      <td>0</td>\n",
       "      <td>0</td>\n",
       "      <td>0</td>\n",
       "      <td>0</td>\n",
       "      <td>0</td>\n",
       "      <td>0</td>\n",
       "      <td>0</td>\n",
       "      <td>0</td>\n",
       "      <td>0</td>\n",
       "    </tr>\n",
       "    <tr>\n",
       "      <th>41998</th>\n",
       "      <td>7</td>\n",
       "      <td>0</td>\n",
       "      <td>0</td>\n",
       "      <td>0</td>\n",
       "      <td>0</td>\n",
       "      <td>0</td>\n",
       "      <td>0</td>\n",
       "      <td>0</td>\n",
       "      <td>0</td>\n",
       "      <td>0</td>\n",
       "      <td>...</td>\n",
       "      <td>0</td>\n",
       "      <td>0</td>\n",
       "      <td>0</td>\n",
       "      <td>0</td>\n",
       "      <td>0</td>\n",
       "      <td>0</td>\n",
       "      <td>0</td>\n",
       "      <td>0</td>\n",
       "      <td>0</td>\n",
       "      <td>0</td>\n",
       "    </tr>\n",
       "    <tr>\n",
       "      <th>41999</th>\n",
       "      <td>6</td>\n",
       "      <td>0</td>\n",
       "      <td>0</td>\n",
       "      <td>0</td>\n",
       "      <td>0</td>\n",
       "      <td>0</td>\n",
       "      <td>0</td>\n",
       "      <td>0</td>\n",
       "      <td>0</td>\n",
       "      <td>0</td>\n",
       "      <td>...</td>\n",
       "      <td>0</td>\n",
       "      <td>0</td>\n",
       "      <td>0</td>\n",
       "      <td>0</td>\n",
       "      <td>0</td>\n",
       "      <td>0</td>\n",
       "      <td>0</td>\n",
       "      <td>0</td>\n",
       "      <td>0</td>\n",
       "      <td>0</td>\n",
       "    </tr>\n",
       "    <tr>\n",
       "      <th>42000</th>\n",
       "      <td>9</td>\n",
       "      <td>0</td>\n",
       "      <td>0</td>\n",
       "      <td>0</td>\n",
       "      <td>0</td>\n",
       "      <td>0</td>\n",
       "      <td>0</td>\n",
       "      <td>0</td>\n",
       "      <td>0</td>\n",
       "      <td>0</td>\n",
       "      <td>...</td>\n",
       "      <td>0</td>\n",
       "      <td>0</td>\n",
       "      <td>0</td>\n",
       "      <td>0</td>\n",
       "      <td>0</td>\n",
       "      <td>0</td>\n",
       "      <td>0</td>\n",
       "      <td>0</td>\n",
       "      <td>0</td>\n",
       "      <td>0</td>\n",
       "    </tr>\n",
       "  </tbody>\n",
       "</table>\n",
       "<p>5 rows × 785 columns</p>\n",
       "</div>"
      ],
      "text/plain": [
       "      class  1  2  3  4  5  6  7  8  9 ... 775 776 777 778 779 780 781 782  \\\n",
       "41996     0  0  0  0  0  0  0  0  0  0 ...   0   0   0   0   0   0   0   0   \n",
       "41997     1  0  0  0  0  0  0  0  0  0 ...   0   0   0   0   0   0   0   0   \n",
       "41998     7  0  0  0  0  0  0  0  0  0 ...   0   0   0   0   0   0   0   0   \n",
       "41999     6  0  0  0  0  0  0  0  0  0 ...   0   0   0   0   0   0   0   0   \n",
       "42000     9  0  0  0  0  0  0  0  0  0 ...   0   0   0   0   0   0   0   0   \n",
       "\n",
       "      783 784  \n",
       "41996   0   0  \n",
       "41997   0   0  \n",
       "41998   0   0  \n",
       "41999   0   0  \n",
       "42000   0   0  \n",
       "\n",
       "[5 rows x 785 columns]"
      ]
     },
     "execution_count": 5,
     "metadata": {},
     "output_type": "execute_result"
    }
   ],
   "source": [
    "mnist_df.tail()"
   ]
  },
  {
   "cell_type": "code",
   "execution_count": 6,
   "metadata": {
    "collapsed": true
   },
   "outputs": [],
   "source": [
    "a=mnist_df['class']"
   ]
  },
  {
   "cell_type": "code",
   "execution_count": 7,
   "metadata": {
    "collapsed": true
   },
   "outputs": [],
   "source": [
    "del mnist_df['class']"
   ]
  },
  {
   "cell_type": "code",
   "execution_count": 8,
   "metadata": {
    "collapsed": true
   },
   "outputs": [],
   "source": [
    "mnist_df.insert(784,'class',a)"
   ]
  },
  {
   "cell_type": "code",
   "execution_count": 9,
   "metadata": {
    "collapsed": false
   },
   "outputs": [
    {
     "data": {
      "text/html": [
       "<div>\n",
       "<table border=\"1\" class=\"dataframe\">\n",
       "  <thead>\n",
       "    <tr style=\"text-align: right;\">\n",
       "      <th></th>\n",
       "      <th>1</th>\n",
       "      <th>2</th>\n",
       "      <th>3</th>\n",
       "      <th>4</th>\n",
       "      <th>5</th>\n",
       "      <th>6</th>\n",
       "      <th>7</th>\n",
       "      <th>8</th>\n",
       "      <th>9</th>\n",
       "      <th>10</th>\n",
       "      <th>...</th>\n",
       "      <th>776</th>\n",
       "      <th>777</th>\n",
       "      <th>778</th>\n",
       "      <th>779</th>\n",
       "      <th>780</th>\n",
       "      <th>781</th>\n",
       "      <th>782</th>\n",
       "      <th>783</th>\n",
       "      <th>784</th>\n",
       "      <th>class</th>\n",
       "    </tr>\n",
       "  </thead>\n",
       "  <tbody>\n",
       "    <tr>\n",
       "      <th>41996</th>\n",
       "      <td>0</td>\n",
       "      <td>0</td>\n",
       "      <td>0</td>\n",
       "      <td>0</td>\n",
       "      <td>0</td>\n",
       "      <td>0</td>\n",
       "      <td>0</td>\n",
       "      <td>0</td>\n",
       "      <td>0</td>\n",
       "      <td>0</td>\n",
       "      <td>...</td>\n",
       "      <td>0</td>\n",
       "      <td>0</td>\n",
       "      <td>0</td>\n",
       "      <td>0</td>\n",
       "      <td>0</td>\n",
       "      <td>0</td>\n",
       "      <td>0</td>\n",
       "      <td>0</td>\n",
       "      <td>0</td>\n",
       "      <td>0</td>\n",
       "    </tr>\n",
       "    <tr>\n",
       "      <th>41997</th>\n",
       "      <td>0</td>\n",
       "      <td>0</td>\n",
       "      <td>0</td>\n",
       "      <td>0</td>\n",
       "      <td>0</td>\n",
       "      <td>0</td>\n",
       "      <td>0</td>\n",
       "      <td>0</td>\n",
       "      <td>0</td>\n",
       "      <td>0</td>\n",
       "      <td>...</td>\n",
       "      <td>0</td>\n",
       "      <td>0</td>\n",
       "      <td>0</td>\n",
       "      <td>0</td>\n",
       "      <td>0</td>\n",
       "      <td>0</td>\n",
       "      <td>0</td>\n",
       "      <td>0</td>\n",
       "      <td>0</td>\n",
       "      <td>1</td>\n",
       "    </tr>\n",
       "    <tr>\n",
       "      <th>41998</th>\n",
       "      <td>0</td>\n",
       "      <td>0</td>\n",
       "      <td>0</td>\n",
       "      <td>0</td>\n",
       "      <td>0</td>\n",
       "      <td>0</td>\n",
       "      <td>0</td>\n",
       "      <td>0</td>\n",
       "      <td>0</td>\n",
       "      <td>0</td>\n",
       "      <td>...</td>\n",
       "      <td>0</td>\n",
       "      <td>0</td>\n",
       "      <td>0</td>\n",
       "      <td>0</td>\n",
       "      <td>0</td>\n",
       "      <td>0</td>\n",
       "      <td>0</td>\n",
       "      <td>0</td>\n",
       "      <td>0</td>\n",
       "      <td>7</td>\n",
       "    </tr>\n",
       "    <tr>\n",
       "      <th>41999</th>\n",
       "      <td>0</td>\n",
       "      <td>0</td>\n",
       "      <td>0</td>\n",
       "      <td>0</td>\n",
       "      <td>0</td>\n",
       "      <td>0</td>\n",
       "      <td>0</td>\n",
       "      <td>0</td>\n",
       "      <td>0</td>\n",
       "      <td>0</td>\n",
       "      <td>...</td>\n",
       "      <td>0</td>\n",
       "      <td>0</td>\n",
       "      <td>0</td>\n",
       "      <td>0</td>\n",
       "      <td>0</td>\n",
       "      <td>0</td>\n",
       "      <td>0</td>\n",
       "      <td>0</td>\n",
       "      <td>0</td>\n",
       "      <td>6</td>\n",
       "    </tr>\n",
       "    <tr>\n",
       "      <th>42000</th>\n",
       "      <td>0</td>\n",
       "      <td>0</td>\n",
       "      <td>0</td>\n",
       "      <td>0</td>\n",
       "      <td>0</td>\n",
       "      <td>0</td>\n",
       "      <td>0</td>\n",
       "      <td>0</td>\n",
       "      <td>0</td>\n",
       "      <td>0</td>\n",
       "      <td>...</td>\n",
       "      <td>0</td>\n",
       "      <td>0</td>\n",
       "      <td>0</td>\n",
       "      <td>0</td>\n",
       "      <td>0</td>\n",
       "      <td>0</td>\n",
       "      <td>0</td>\n",
       "      <td>0</td>\n",
       "      <td>0</td>\n",
       "      <td>9</td>\n",
       "    </tr>\n",
       "  </tbody>\n",
       "</table>\n",
       "<p>5 rows × 785 columns</p>\n",
       "</div>"
      ],
      "text/plain": [
       "       1  2  3  4  5  6  7  8  9 10  ...  776 777 778 779 780 781 782 783 784  \\\n",
       "41996  0  0  0  0  0  0  0  0  0  0  ...    0   0   0   0   0   0   0   0   0   \n",
       "41997  0  0  0  0  0  0  0  0  0  0  ...    0   0   0   0   0   0   0   0   0   \n",
       "41998  0  0  0  0  0  0  0  0  0  0  ...    0   0   0   0   0   0   0   0   0   \n",
       "41999  0  0  0  0  0  0  0  0  0  0  ...    0   0   0   0   0   0   0   0   0   \n",
       "42000  0  0  0  0  0  0  0  0  0  0  ...    0   0   0   0   0   0   0   0   0   \n",
       "\n",
       "      class  \n",
       "41996     0  \n",
       "41997     1  \n",
       "41998     7  \n",
       "41999     6  \n",
       "42000     9  \n",
       "\n",
       "[5 rows x 785 columns]"
      ]
     },
     "execution_count": 9,
     "metadata": {},
     "output_type": "execute_result"
    }
   ],
   "source": [
    "mnist_df.tail()"
   ]
  },
  {
   "cell_type": "code",
   "execution_count": 10,
   "metadata": {
    "collapsed": true
   },
   "outputs": [],
   "source": [
    "mnist_df = mnist_df.ix[1:]"
   ]
  },
  {
   "cell_type": "code",
   "execution_count": 11,
   "metadata": {
    "collapsed": false
   },
   "outputs": [],
   "source": [
    "mnist=mnist_df.as_matrix()"
   ]
  },
  {
   "cell_type": "code",
   "execution_count": 12,
   "metadata": {
    "collapsed": false
   },
   "outputs": [
    {
     "data": {
      "text/plain": [
       "(42000, 785)"
      ]
     },
     "execution_count": 12,
     "metadata": {},
     "output_type": "execute_result"
    }
   ],
   "source": [
    "mnist.shape"
   ]
  },
  {
   "cell_type": "code",
   "execution_count": 13,
   "metadata": {
    "collapsed": false
   },
   "outputs": [
    {
     "data": {
      "text/plain": [
       "array([['0', '0', '0', ..., '0', '0', '1'],\n",
       "       ['0', '0', '0', ..., '0', '0', '0'],\n",
       "       ['0', '0', '0', ..., '0', '0', '1'],\n",
       "       ['0', '0', '0', ..., '0', '0', '4'],\n",
       "       ['0', '0', '0', ..., '0', '0', '0']], dtype=object)"
      ]
     },
     "execution_count": 13,
     "metadata": {},
     "output_type": "execute_result"
    }
   ],
   "source": [
    "mnist[:5]"
   ]
  },
  {
   "cell_type": "code",
   "execution_count": 14,
   "metadata": {
    "collapsed": true
   },
   "outputs": [],
   "source": [
    "#mnist_train_X=mnist[0:32000,0:784]\n",
    "#mnist_train_Y=mnist[0:32000,784]\n",
    "#mnist_test_X=mnist[32000:,0:784]\n",
    "#mnist_test_Y=mnist[32000:,784]\n"
   ]
  },
  {
   "cell_type": "code",
   "execution_count": 15,
   "metadata": {
    "collapsed": false
   },
   "outputs": [],
   "source": [
    "from sklearn.model_selection import train_test_split\n",
    "mnist_train_X, mnist_test_X,mnist_train_Y, mnist_test_Y = train_test_split(mnist[:,0:784],mnist[:,784], test_size=0.25, random_state=42)"
   ]
  },
  {
   "cell_type": "code",
   "execution_count": 16,
   "metadata": {
    "collapsed": false
   },
   "outputs": [
    {
     "data": {
      "text/plain": [
       "(31500, 784)"
      ]
     },
     "execution_count": 16,
     "metadata": {},
     "output_type": "execute_result"
    }
   ],
   "source": [
    "mnist_train_X.shape"
   ]
  },
  {
   "cell_type": "code",
   "execution_count": 17,
   "metadata": {
    "collapsed": false
   },
   "outputs": [],
   "source": [
    "mnist_train_X=mnist_train_X.astype(int)\n",
    "mnist_train_Y=mnist_train_Y.astype(int)\n",
    "mnist_test_X=mnist_test_X.astype(int)\n",
    "mnist_test_Y=mnist_test_Y.astype(int)"
   ]
  },
  {
   "cell_type": "code",
   "execution_count": 18,
   "metadata": {
    "collapsed": false
   },
   "outputs": [],
   "source": [
    "covariance=np.cov((mnist_train_X).T)"
   ]
  },
  {
   "cell_type": "code",
   "execution_count": 19,
   "metadata": {
    "collapsed": false
   },
   "outputs": [
    {
     "data": {
      "text/plain": [
       "(784, 784)"
      ]
     },
     "execution_count": 19,
     "metadata": {},
     "output_type": "execute_result"
    }
   ],
   "source": [
    "covariance.shape"
   ]
  },
  {
   "cell_type": "code",
   "execution_count": 20,
   "metadata": {
    "collapsed": true
   },
   "outputs": [],
   "source": [
    "from numpy import linalg as LA\n",
    "eig_val, eig_vec = LA.eig(covariance)"
   ]
  },
  {
   "cell_type": "code",
   "execution_count": 21,
   "metadata": {
    "collapsed": true
   },
   "outputs": [],
   "source": [
    "eig_vec=np.real(eig_vec)\n",
    "eig_val=np.real(eig_val)"
   ]
  },
  {
   "cell_type": "code",
   "execution_count": 22,
   "metadata": {
    "collapsed": true
   },
   "outputs": [],
   "source": [
    "sorted_eig_val=np.sort(eig_val)[::-1]\n",
    "index_sorted_eig_val=np.argsort(eig_val)[::-1]"
   ]
  },
  {
   "cell_type": "code",
   "execution_count": 26,
   "metadata": {
    "collapsed": false
   },
   "outputs": [
    {
     "data": {
      "image/png": "[encoded data removed]",
      "text/plain": [
       "<matplotlib.figure.Figure at 0x7fc13d0e7198>"
      ]
     },
     "metadata": {},
     "output_type": "display_data"
    }
   ],
   "source": [
    "import matplotlib.pyplot as plt\n",
    "plt.figure(figsize=(12,10))\n",
    "for i in range(20):\n",
    "    example = eig_vec[:,index_sorted_eig_val[i]].reshape(28, 28).T\n",
    "    plt.subplot(4, 5, i+1)\n",
    "    plt.imshow(example, cmap='gray')\n",
    "    plt.title(\"Eigenvector: {0}\".format(i+1))\n",
    "    plt.axis(\"off\")\n",
    "plt.tight_layout()\n",
    "plt.show()"
   ]
  },
  {
   "cell_type": "code",
   "execution_count": 23,
   "metadata": {
    "collapsed": true
   },
   "outputs": [],
   "source": [
    "cumilative_sorted_eig_val=np.cumsum(sorted_eig_val)\n",
    "norm_cumilative_sorted_eig_val=cumilative_sorted_eig_val/(max(cumilative_sorted_eig_val))"
   ]
  },
  {
   "cell_type": "code",
   "execution_count": 28,
   "metadata": {
    "collapsed": false
   },
   "outputs": [
    {
     "data": {
      "image/png": "[encoded data removed]",
      "text/plain": [
       "<matplotlib.figure.Figure at 0x7fc13d155a90>"
      ]
     },
     "metadata": {},
     "output_type": "display_data"
    }
   ],
   "source": [
    "import matplotlib.pyplot as plt\n",
    "plt.figure(figsize=(10,10))\n",
    "plt.plot(range(1,len(norm_cumilative_sorted_eig_val)+1), norm_cumilative_sorted_eig_val,marker='o')\n",
    "plt.xlabel('Number of Principal Components(Starting with the most relevant)')\n",
    "plt.ylabel('Normalized Cumilative Sum of there correspoing Eigen Values')\n",
    "plt.show()"
   ]
  },
  {
   "cell_type": "code",
   "execution_count": 24,
   "metadata": {
    "collapsed": false
   },
   "outputs": [],
   "source": [
    "pca_components=eig_vec[:,index_sorted_eig_val[0]]\n",
    "for i in range(len(eig_val)-1):\n",
    "    pca_components=np.column_stack((pca_components,eig_vec[:,index_sorted_eig_val[i+1]]))"
   ]
  },
  {
   "cell_type": "code",
   "execution_count": 25,
   "metadata": {
    "collapsed": false
   },
   "outputs": [
    {
     "data": {
      "text/plain": [
       "(784, 784)"
      ]
     },
     "execution_count": 25,
     "metadata": {},
     "output_type": "execute_result"
    }
   ],
   "source": [
    "pca_components.shape"
   ]
  },
  {
   "cell_type": "code",
   "execution_count": 26,
   "metadata": {
    "collapsed": true
   },
   "outputs": [],
   "source": [
    "#number_of_PCA_components\n",
    "n=90;\n",
    "mnist_train_X_mean=(mnist_train_X.T).mean(1)\n",
    "temp=np.array([(mnist_train_X[i,:].T-mnist_train_X_mean) for i in range(len(mnist_train_X))])\n",
    "mnist_train_X_classifier=temp.dot(pca_components[:,0:n])"
   ]
  },
  {
   "cell_type": "code",
   "execution_count": 27,
   "metadata": {
    "collapsed": false
   },
   "outputs": [
    {
     "data": {
      "text/plain": [
       "(31500, 90)"
      ]
     },
     "execution_count": 27,
     "metadata": {},
     "output_type": "execute_result"
    }
   ],
   "source": [
    "mnist_train_X_classifier.shape"
   ]
  },
  {
   "cell_type": "code",
   "execution_count": 28,
   "metadata": {
    "collapsed": true
   },
   "outputs": [],
   "source": [
    "mnist_test_X_mean=(mnist_test_X.T).mean(1)\n",
    "temp=np.array([(mnist_test_X[i,:].T-mnist_test_X_mean) for i in range(len(mnist_test_X))])\n",
    "mnist_test_X_classifier=temp.dot(pca_components[:,0:n])"
   ]
  },
  {
   "cell_type": "code",
   "execution_count": 29,
   "metadata": {
    "collapsed": false
   },
   "outputs": [
    {
     "data": {
      "text/plain": [
       "(31500, 90)"
      ]
     },
     "execution_count": 29,
     "metadata": {},
     "output_type": "execute_result"
    }
   ],
   "source": [
    "mnist_train_X_classifier.shape"
   ]
  },
  {
   "cell_type": "code",
   "execution_count": 30,
   "metadata": {
    "collapsed": true
   },
   "outputs": [],
   "source": [
    "from sklearn.tree import DecisionTreeClassifier\n",
    "from sklearn.model_selection import train_test_split, cross_val_score, KFold\n",
    "from sklearn.metrics import confusion_matrix, accuracy_score, zero_one_loss\n",
    "from sklearn.utils import resample\n",
    "from collections import defaultdict\n",
    "import matplotlib.pyplot as plt\n",
    "from scipy import stats"
   ]
  },
  {
   "cell_type": "code",
   "execution_count": null,
   "metadata": {
    "collapsed": true
   },
   "outputs": [],
   "source": [
    "max_n_trees=150\n",
    "for i in range(1,max_n_trees+1):\n",
    "    \n",
    "    "
   ]
  },
  {
   "cell_type": "code",
   "execution_count": 32,
   "metadata": {
    "collapsed": false
   },
   "outputs": [
    {
     "data": {
      "text/plain": [
       "10.0"
      ]
     },
     "execution_count": 32,
     "metadata": {},
     "output_type": "execute_result"
    }
   ],
   "source": [
    "n_features=np.ceil(np.sqrt(90))\n",
    "n_features"
   ]
  },
  {
   "cell_type": "code",
   "execution_count": 59,
   "metadata": {
    "collapsed": false
   },
   "outputs": [],
   "source": [
    "temp=np.random.random_integers(1,90, size=(int(n_features)))"
   ]
  },
  {
   "cell_type": "code",
   "execution_count": 62,
   "metadata": {
    "collapsed": false
   },
   "outputs": [
    {
     "ename": "IndexError",
     "evalue": "index 90 is out of bounds for axis 1 with size 90",
     "output_type": "error",
     "traceback": [
      "\u001b[0;31m---------------------------------------------------------------------------\u001b[0m",
      "\u001b[0;31mIndexError\u001b[0m                                Traceback (most recent call last)",
      "\u001b[0;32m<ipython-input-62-6b9656e078e4>\u001b[0m in \u001b[0;36m<module>\u001b[0;34m()\u001b[0m\n\u001b[0;32m----> 1\u001b[0;31m \u001b[0mtemp\u001b[0m\u001b[0;34m=\u001b[0m\u001b[0mmnist_train_X_classifier\u001b[0m\u001b[0;34m[\u001b[0m\u001b[0;34m:\u001b[0m\u001b[0;34m,\u001b[0m\u001b[0;36m90\u001b[0m\u001b[0;34m]\u001b[0m\u001b[0;34m\u001b[0m\u001b[0m\n\u001b[0m",
      "\u001b[0;31mIndexError\u001b[0m: index 90 is out of bounds for axis 1 with size 90"
     ]
    }
   ],
   "source": [
    "temp=mnist_train_X_classifier[:,temp]"
   ]
  },
  {
   "cell_type": "code",
   "execution_count": 61,
   "metadata": {
    "collapsed": false
   },
   "outputs": [
    {
     "data": {
      "text/plain": [
       "(31500, 10)"
      ]
     },
     "execution_count": 61,
     "metadata": {},
     "output_type": "execute_result"
    }
   ],
   "source": [
    "temp.shape"
   ]
  },
  {
   "cell_type": "code",
   "execution_count": 115,
   "metadata": {
    "collapsed": false
   },
   "outputs": [],
   "source": [
    "\n",
    "n_trees=50;\n",
    "X={}\n",
    "y={}\n",
    "clf={}\n",
    "feature_imp = defaultdict(list)\n",
    "features_index={}\n",
    "data_index={}\n",
    "\n",
    "\n",
    "for i in range(1,n_trees+1):\n",
    "    \n",
    "    data_index[i]=np.random.random_integers(0,len(mnist_train_X_classifier)-1, size=21000)\n",
    "    features_index[i]=np.random.random_integers(0,89, size=(int(n_features)))\n",
    "    y[i]=mnist_train_Y[data_index[i]]\n",
    "    temp=mnist_train_X_classifier[data_index[i],:]\n",
    "    X[i]=temp[:,features_index[i]]\n",
    "    clf[i] = DecisionTreeClassifier(max_depth=None,random_state=0)\n",
    "    clf[i].fit(X[i],y[i])\n",
    "    imp=clf[i].feature_importances_ \n",
    "    iti=0;\n",
    "    for j in features_index[i]:\n",
    "        feature_imp[j].append(imp[iti])\n",
    "        iti=iti+1;\n",
    "    \n",
    "    "
   ]
  },
  {
   "cell_type": "code",
   "execution_count": 116,
   "metadata": {
    "collapsed": true
   },
   "outputs": [],
   "source": [
    "avg_imp=[np.mean(feature_imp[j]) for j in range(0,90)]"
   ]
  },
  {
   "cell_type": "code",
   "execution_count": 117,
   "metadata": {
    "collapsed": true
   },
   "outputs": [
    {
     "data": {
      "text/plain": [
       "[0.23783359913208266,\n",
       " 0.16211629781910628,\n",
       " 0.13671605424788202,\n",
       " 0.14660512891191671,\n",
       " 0.16162988912045187,\n",
       " 0.14772653777073461,\n",
       " 0.1181418319456911,\n",
       " 0.12001023694358157,\n",
       " 0.094530332480919452,\n",
       " 0.11562942141299402,\n",
       " 0.11609999283998056,\n",
       " 0.11931678599990621,\n",
       " 0.11251174823201915,\n",
       " 0.11107029148649084,\n",
       " 0.11265243866563202,\n",
       " 0.12015160749037035,\n",
       " 0.10848176914839279,\n",
       " 0.11142310978250548,\n",
       " 0.10362014399982708,\n",
       " 0.10950849029366241,\n",
       " 0.067301036358340033,\n",
       " 0.10049731783715696,\n",
       " 0.10992646469458296,\n",
       " 0.10221026992817782,\n",
       " 0.098464103795357069,\n",
       " 0.10060228778649852,\n",
       " 0.10219203767824157,\n",
       " 0.090009408248332701,\n",
       " 0.10588096171012484,\n",
       " 0.080362499454809208,\n",
       " 0.099436653117073864,\n",
       " 0.10282627246983352,\n",
       " 0.099650611229784997,\n",
       " 0.097517087788552018,\n",
       " 0.091207409951813645,\n",
       " 0.10209485743880634,\n",
       " 0.1051919285985931,\n",
       " 0.095975532971280211,\n",
       " nan,\n",
       " 0.083931425608980301,\n",
       " 0.08602884771957045,\n",
       " 0.10028963287514857,\n",
       " 0.10319568016443036,\n",
       " 0.072256340559998966,\n",
       " 0.092787770414889809,\n",
       " 0.098748004368403156,\n",
       " 0.088466966649930298,\n",
       " 0.086397612296287979,\n",
       " 0.085062652793012852,\n",
       " 0.083527452917367725,\n",
       " 0.078962460458547989,\n",
       " 0.085686467110855535,\n",
       " 0.090601126170902824,\n",
       " 0.084937589328455798,\n",
       " 0.091777337998258837,\n",
       " 0.086742188078374444,\n",
       " 0.091798289852938683,\n",
       " 0.075539522185378044,\n",
       " 0.10061399057769746,\n",
       " 0.081439219511760377,\n",
       " 0.089568497279719203,\n",
       " 0.080985899200992209,\n",
       " 0.097998057764916296,\n",
       " 0.091787915532010628,\n",
       " 0.090351379375606472,\n",
       " 0.097208042812599232,\n",
       " 0.087232987652447372,\n",
       " 0.091614359712060597,\n",
       " 0.073482388197929974,\n",
       " 0.08344699494914172,\n",
       " 0.086122776288212549,\n",
       " 0.083743929473012638,\n",
       " 0.070231048947841698,\n",
       " 0.081318099129419397,\n",
       " 0.075153136889082497,\n",
       " 0.082825191583917462,\n",
       " 0.093569520819943991,\n",
       " 0.089148908493661388,\n",
       " 0.08012960775557916,\n",
       " 0.08924890752582984,\n",
       " 0.090141439119699338,\n",
       " 0.080961138574182953,\n",
       " 0.086966863481226758,\n",
       " 0.087395547522591127,\n",
       " 0.078612640361999137,\n",
       " 0.10166546417041911,\n",
       " 0.08693111060983684,\n",
       " 0.090753994388583017,\n",
       " 0.086311313239082518,\n",
       " 0.082385212289940724]"
      ]
     },
     "execution_count": 117,
     "metadata": {},
     "output_type": "execute_result"
    }
   ],
   "source": [
    "avg_imp"
   ]
  },
  {
   "cell_type": "code",
   "execution_count": 118,
   "metadata": {
    "collapsed": false
   },
   "outputs": [],
   "source": [
    "#Classification Test Error\n",
    "from scipy import stats\n",
    "\n",
    "test_pre_tree={}\n",
    "test_pre=[]\n",
    "\n",
    "for i in range(1,n_trees+1):\n",
    "    test_pre_tree[i]=clf[i].predict(mnist_test_X_classifier[:,features_index[i]])\n",
    "    \n",
    "for j in range(len(mnist_test_Y)):\n",
    "    temp=[];\n",
    "    for i in range(1,n_trees+1):\n",
    "        t=test_pre_tree[i]\n",
    "        temp.append(t[j])\n",
    "    a,b=stats.mode(temp)\n",
    "    test_pre.append(a[0])   "
   ]
  },
  {
   "cell_type": "code",
   "execution_count": 89,
   "metadata": {
    "collapsed": false
   },
   "outputs": [
    {
     "data": {
      "text/plain": [
       "2"
      ]
     },
     "execution_count": 89,
     "metadata": {},
     "output_type": "execute_result"
    }
   ],
   "source": [
    "d=[1,2,3,2]\n",
    "a,b=stats.mode(d)\n",
    "a[0]"
   ]
  },
  {
   "cell_type": "code",
   "execution_count": 94,
   "metadata": {
    "collapsed": false
   },
   "outputs": [
    {
     "data": {
      "text/plain": [
       "[8, 1, 9, 9, 8]"
      ]
     },
     "execution_count": 94,
     "metadata": {},
     "output_type": "execute_result"
    }
   ],
   "source": [
    "test_pre[:5]"
   ]
  },
  {
   "cell_type": "code",
   "execution_count": 119,
   "metadata": {
    "collapsed": false
   },
   "outputs": [
    {
     "data": {
      "text/plain": [
       "0.85352380952380957"
      ]
     },
     "execution_count": 119,
     "metadata": {},
     "output_type": "execute_result"
    }
   ],
   "source": [
    "test_accuracy=accuracy_score(mnist_test_Y, test_pre)\n",
    "test_accuracy"
   ]
  },
  {
   "cell_type": "code",
   "execution_count": 123,
   "metadata": {
    "collapsed": false
   },
   "outputs": [],
   "source": [
    "#Out of Bag Accuracy\n",
    "\n",
    "out_pre=[]\n",
    "to=0;\n",
    "ind=0\n",
    "right=0\n",
    "for j in range(len(mnist_train_X_classifier)):\n",
    "    \n",
    "    out_trees_pre=[]\n",
    "    for i in range(1,n_trees+1):\n",
    "        if j not in data_index[i]:\n",
    "            out_trees_pre.append(clf[i].predict(mnist_train_X_classifier[j,features_index[i]]))\n",
    "    if len(out_trees_pre) != 0:\n",
    "        a,b=stats.mode(out_trees_pre)\n",
    "        to=to+1;\n",
    "        if a[0]==mnist_train_Y[ind]:\n",
    "            right=right+1;\n",
    "    ind=ind+1        "
   ]
  },
  {
   "cell_type": "code",
   "execution_count": 126,
   "metadata": {
    "collapsed": false
   },
   "outputs": [
    {
     "data": {
      "text/plain": [
       "0.7686666666666667"
      ]
     },
     "execution_count": 126,
     "metadata": {},
     "output_type": "execute_result"
    }
   ],
   "source": [
    "right/to"
   ]
  },
  {
   "cell_type": "code",
   "execution_count": 98,
   "metadata": {
    "collapsed": false
   },
   "outputs": [
    {
     "data": {
      "text/plain": [
       "0.91615873015873017"
      ]
     },
     "execution_count": 98,
     "metadata": {},
     "output_type": "execute_result"
    }
   ],
   "source": [
    "out_accuracy=accuracy_score(mnist_train_Y, out_pre)\n",
    "out_accuracy"
   ]
  },
  {
   "cell_type": "code",
   "execution_count": 100,
   "metadata": {
    "collapsed": false
   },
   "outputs": [],
   "source": [
    "# Training Error\n",
    "\n",
    "train_pre=[]\n",
    "train_pre_tree={}\n",
    "\n",
    "for i in range(1,n_trees+1):\n",
    "    train_pre_tree[i]=clf[i].predict(mnist_train_X_classifier[:,features_index[i]])\n",
    "    \n",
    "for j in range(len(mnist_train_Y)):\n",
    "    temp=[];\n",
    "    for i in range(1,n_trees+1):\n",
    "        t=train_pre_tree[i]\n",
    "        temp.append(t[j])\n",
    "    a,b=stats.mode(temp)\n",
    "    train_pre.append(a[0]) \n"
   ]
  },
  {
   "cell_type": "code",
   "execution_count": 101,
   "metadata": {
    "collapsed": false
   },
   "outputs": [
    {
     "data": {
      "text/plain": [
       "0.91615873015873017"
      ]
     },
     "execution_count": 101,
     "metadata": {},
     "output_type": "execute_result"
    }
   ],
   "source": [
    "train_accuracy=accuracy_score(mnist_train_Y, train_pre)\n",
    "train_accuracy"
   ]
  },
  {
   "cell_type": "code",
   "execution_count": 133,
   "metadata": {
    "collapsed": false
   },
   "outputs": [],
   "source": [
    "avg_imp = {}\n",
    "test_accuracy={}\n",
    "out_accuracy={}\n",
    "train_accuracy={}\n",
    "train_pre_forest={}\n",
    "test_pre_forest={}\n",
    "\n",
    "for n_trees in range(1,121,10):\n",
    "    \n",
    "    X={}\n",
    "    y={}\n",
    "    clf={}\n",
    "    feature_imp = defaultdict(list)\n",
    "    features_index={}\n",
    "    test_pre_tree={}\n",
    "\n",
    "    data_index={}\n",
    "    train_pre=[]\n",
    "    train_pre_tree={}\n",
    "\n",
    "    for i in range(1,n_trees+1):\n",
    "        \n",
    "        data_index[i]=np.random.random_integers(0,len(mnist_train_X_classifier)-1, size=21000)\n",
    "        features_index[i]=np.random.random_integers(0,89, size=(int(n_features)))\n",
    "        y[i]=mnist_train_Y[data_index[i]]\n",
    "        temp=mnist_train_X_classifier[data_index[i],:]\n",
    "        X[i]=temp[:,features_index[i]]\n",
    "        clf[i] = DecisionTreeClassifier(max_depth=None,random_state=0)\n",
    "        clf[i].fit(X[i],y[i])\n",
    "        imp=clf[i].feature_importances_ \n",
    "        test_pre_tree[i]=clf[i].predict(mnist_test_X_classifier[:,features_index[i]])\n",
    "        train_pre_tree[i]=clf[i].predict(mnist_train_X_classifier[:,features_index[i]])\n",
    "        \n",
    "        \n",
    "        iti=0;\n",
    "        \n",
    "        for j in features_index[i]:\n",
    "            feature_imp[j].append(imp[iti])\n",
    "            iti=iti+1;\n",
    "            \n",
    "    avg_imp[n_trees]=[np.mean(feature_imp[j]) for j in range(0,90)]\n",
    "    \n",
    "    \n",
    "    #Classification Test Error\n",
    "    test_pre=[]\n",
    "    \n",
    "    for j in range(len(mnist_test_Y)):\n",
    "        temp=[];\n",
    "        for i in range(1,n_trees+1):\n",
    "            t=test_pre_tree[i]\n",
    "            temp.append(t[j])\n",
    "        a,b=stats.mode(temp)\n",
    "        test_pre.append(a[0])\n",
    "        \n",
    "        \n",
    "    test_accuracy[n_trees]=accuracy_score(mnist_test_Y, test_pre) \n",
    "    test_pre_forest[n_trees]=test_pre\n",
    "    \n",
    "    #print(n_trees,\" test_accuracy  \", test_accuracy[n_trees])\n",
    "    \n",
    "    \n",
    "    \n",
    "    #Out of Bag Accuracy\n",
    "\n",
    "    \n",
    "    to=0;\n",
    "    ind=0\n",
    "    right=0\n",
    "    for j in range(len(mnist_train_X_classifier)):\n",
    "    \n",
    "        out_trees_pre=[]\n",
    "        for i in range(1,n_trees+1):\n",
    "            if j not in data_index[i]:\n",
    "                out_trees_pre.append(clf[i].predict(mnist_train_X_classifier[j,features_index[i]]))\n",
    "        if len(out_trees_pre) != 0:\n",
    "            a,b=stats.mode(out_trees_pre)\n",
    "            to=to+1;\n",
    "            if a[0]==mnist_train_Y[ind]:\n",
    "                right=right+1;\n",
    "        ind=ind+1 \n",
    "        \n",
    "    out_accuracy[n_trees]=right/to;\n",
    "    \n",
    "    \n",
    "    #print(n_trees,\" out_accuracy   \", out_accuracy[n_trees])  \n",
    "        \n",
    "    \n",
    "    # Training Error\n",
    "\n",
    "    \n",
    "    for j in range(len(mnist_train_Y)):\n",
    "        temp=[];\n",
    "        for i in range(1,n_trees+1):\n",
    "            t=train_pre_tree[i]\n",
    "            temp.append(t[j])\n",
    "        a,b=stats.mode(temp)\n",
    "        train_pre.append(a[0]) \n",
    "        \n",
    "    train_accuracy[n_trees]=accuracy_score(mnist_train_Y, train_pre) \n",
    "    train_pre_forest[n_trees]=train_pre\n",
    "    \n",
    "    #print(n_trees,\"train_accuracy\", train_accuracy[n_trees])    \n",
    "        \n"
   ]
  },
  {
   "cell_type": "code",
   "execution_count": 141,
   "metadata": {
    "collapsed": false
   },
   "outputs": [
    {
     "data": {
      "text/plain": [
       "12"
      ]
     },
     "execution_count": 141,
     "metadata": {},
     "output_type": "execute_result"
    }
   ],
   "source": [
    "len(train_accuracy.keys())"
   ]
  },
  {
   "cell_type": "code",
   "execution_count": 145,
   "metadata": {
    "collapsed": false
   },
   "outputs": [],
   "source": [
    "train_accuracy_array=[]\n",
    "test_accuracy_array=[]\n",
    "out_accuracy_array=[]\n",
    "\n",
    "for i in range(1,121,10):\n",
    "    train_accuracy_array.append(train_accuracy[i])\n",
    "    test_accuracy_array.append(test_accuracy[i])\n",
    "    out_accuracy_array.append(out_accuracy[i])"
   ]
  },
  {
   "cell_type": "code",
   "execution_count": 148,
   "metadata": {
    "collapsed": false
   },
   "outputs": [
    {
     "data": {
      "image/png": "[encoded data removed]",
      "text/plain": [
       "<matplotlib.figure.Figure at 0x7fc10e917048>"
      ]
     },
     "metadata": {},
     "output_type": "display_data"
    }
   ],
   "source": [
    "import matplotlib.pyplot as plt\n",
    "plt.figure(figsize=(10,10))\n",
    "\n",
    "plt.plot(range(1,121,10),train_accuracy_array,marker='o',color='r',label='Training Accuracy')\n",
    "plt.plot(range(1,121,10),test_accuracy_array,marker='*',color='g',label='Test Accuracy')\n",
    "plt.plot(range(1,121,10),out_accuracy_array,marker='+',color='b',label='Out of Bag Accuracy')\n",
    "\n",
    "\n",
    "\n",
    "plt.xlabel('Number of trees used to construct the forest')\n",
    "plt.ylabel('Accuracy')\n",
    "\n",
    "plt.legend()\n",
    "\n",
    "plt.show()"
   ]
  },
  {
   "cell_type": "code",
   "execution_count": 152,
   "metadata": {
    "collapsed": false
   },
   "outputs": [
    {
     "data": {
      "image/png": "[encoded data removed]",
      "text/plain": [
       "<matplotlib.figure.Figure at 0x7fc10e726978>"
      ]
     },
     "metadata": {},
     "output_type": "display_data"
    }
   ],
   "source": [
    "import matplotlib.pyplot as plt\n",
    "plt.figure(figsize=(10,10))\n",
    "\n",
    "plt.plot(range(1,91),avg_imp[111],marker='o',color='r')\n",
    "plt.xlabel('Feature Number')\n",
    "plt.ylabel('Feature Importance')\n",
    "plt.tight_layout()\n",
    "plt.show()"
   ]
  },
  {
   "cell_type": "code",
   "execution_count": null,
   "metadata": {
    "collapsed": true
   },
   "outputs": [],
   "source": []
  },
  {
   "cell_type": "code",
   "execution_count": 1,
   "metadata": {
    "collapsed": false
   },
   "outputs": [
    {
     "ename": "NameError",
     "evalue": "name 'avg_imp' is not defined",
     "output_type": "error",
     "traceback": [
      "\u001b[0;31m---------------------------------------------------------------------------\u001b[0m",
      "\u001b[0;31mNameError\u001b[0m                                 Traceback (most recent call last)",
      "\u001b[0;32m<ipython-input-1-32e61516c736>\u001b[0m in \u001b[0;36m<module>\u001b[0;34m()\u001b[0m\n\u001b[0;32m----> 1\u001b[0;31m \u001b[0mimportances\u001b[0m\u001b[0;34m=\u001b[0m\u001b[0mavg_imp\u001b[0m\u001b[0;34m[\u001b[0m\u001b[0;36m111\u001b[0m\u001b[0;34m]\u001b[0m\u001b[0;34m\u001b[0m\u001b[0m\n\u001b[0m\u001b[1;32m      2\u001b[0m \u001b[0mlen\u001b[0m\u001b[0;34m(\u001b[0m\u001b[0mimportances\u001b[0m\u001b[0;34m)\u001b[0m\u001b[0;34m\u001b[0m\u001b[0m\n",
      "\u001b[0;31mNameError\u001b[0m: name 'avg_imp' is not defined"
     ]
    }
   ],
   "source": [
    "importances=avg_imp[111]\n",
    "len(importances)"
   ]
  },
  {
   "cell_type": "code",
   "execution_count": 181,
   "metadata": {
    "collapsed": false
   },
   "outputs": [
    {
     "data": {
      "image/png": "[encoded data removed]",
      "text/plain": [
       "<matplotlib.figure.Figure at 0x7fc10eb0bda0>"
      ]
     },
     "metadata": {},
     "output_type": "display_data"
    }
   ],
   "source": [
    "importances=avg_imp[111]\n",
    "indices = np.argsort(importances)[::-1]\n",
    "importances=np.sort(importances)[::-1]\n",
    "\n",
    "# Plot the feature importances of the forest\n",
    "plt.figure(figsize=(12,12))\n",
    "plt.title(\"Feature importances\")\n",
    "plt.bar(range(len(importances)), importances,\n",
    "       color=\"r\", align=\"center\")\n",
    "plt.xticks(range(len(importances)), indices)\n",
    "plt.xlim([-1, len(importances)])\n",
    "plt.ylim(ymin=0)\n",
    "plt.show()"
   ]
  },
  {
   "cell_type": "code",
   "execution_count": 45,
   "metadata": {
    "collapsed": true
   },
   "outputs": [],
   "source": [
    "import itertools   \n",
    "def plot_confusion_matrix(cm, classes,\n",
    "                          normalize=False,\n",
    "                          title='Confusion matrix',\n",
    "                          cmap=plt.cm.Blues):\n",
    "    \"\"\"\n",
    "    This function prints and plots the confusion matrix.\n",
    "    Normalization can be applied by setting `normalize=True`.\n",
    "    \"\"\"\n",
    "    plt.imshow(cm, interpolation='nearest', cmap=cmap)\n",
    "    plt.title(title)\n",
    "    plt.colorbar()\n",
    "    tick_marks = np.arange(len(classes))\n",
    "    plt.xticks(tick_marks, classes, rotation=45)\n",
    "    plt.yticks(tick_marks, classes)\n",
    "\n",
    "    if normalize:\n",
    "        cm = cm.astype('float') / cm.sum(axis=1)[:, np.newaxis]\n",
    "        print(\"Normalized confusion matrix\")\n",
    "    else:\n",
    "        print('Confusion matrix, without normalization')\n",
    "\n",
    "    print(cm)\n",
    "\n",
    "    thresh = cm.max() / 2.\n",
    "    for i, j in itertools.product(range(cm.shape[0]), range(cm.shape[1])):\n",
    "        plt.text(j, i, cm[i, j],\n",
    "                 horizontalalignment=\"center\",\n",
    "                 color=\"white\" if cm[i, j] > thresh else \"black\")\n",
    "\n",
    "    plt.tight_layout()\n",
    "    plt.ylabel('True label')\n",
    "    plt.xlabel('Predicted label')\n"
   ]
  },
  {
   "cell_type": "code",
   "execution_count": 185,
   "metadata": {
    "collapsed": false
   },
   "outputs": [
    {
     "name": "stdout",
     "output_type": "stream",
     "text": [
      "Confusion matrix, without normalization\n",
      "[[ 995    0    2    2    2    3   14    0    5    2]\n",
      " [   0 1128    4    3    0    0    4    2    5    0]\n",
      " [  22    4  958   22   15    6    7    9   26    3]\n",
      " [  12    2   37  974    7   39    5   22   37   16]\n",
      " [   4    1   20    3  912    4   11   18    6   45]\n",
      " [  10    0    8   57   11  739   31    7   27    8]\n",
      " [  18    1    5    2    5   12  962    1    3    1]\n",
      " [   9   12   20    4   23    3    2 1018    7   37]\n",
      " [  28    7   34   49   11   30   13    3  817   13]\n",
      " [  14    4    9   19   40   12    4   33    9  890]]\n"
     ]
    },
    {
     "data": {
      "text/plain": [
       "<matplotlib.figure.Figure at 0x7fc10e64cf98>"
      ]
     },
     "metadata": {},
     "output_type": "display_data"
    },
    {
     "data": {
      "image/png": "[encoded data removed]",
      "text/plain": [
       "<matplotlib.figure.Figure at 0x7fc10eb5eba8>"
      ]
     },
     "metadata": {},
     "output_type": "display_data"
    }
   ],
   "source": [
    "cnf_matrix = confusion_matrix(mnist_test_Y, test_pre_forest[111],labels=range(0,10))\n",
    "\n",
    "\n",
    "# Plot non-normalized confusion matrix\n",
    "plt.figure()\n",
    "plot_confusion_matrix(cnf_matrix, classes=range(0,10),\n",
    "                      title='Confusion matrix, without normalization')\n",
    "plt.show()"
   ]
  },
  {
   "cell_type": "code",
   "execution_count": 186,
   "metadata": {
    "collapsed": true
   },
   "outputs": [],
   "source": [
    "plt.show()"
   ]
  },
  {
   "cell_type": "code",
   "execution_count": null,
   "metadata": {
    "collapsed": true
   },
   "outputs": [],
   "source": []
  },
  {
   "cell_type": "code",
   "execution_count": 33,
   "metadata": {
    "collapsed": false
   },
   "outputs": [
    {
     "name": "stdout",
     "output_type": "stream",
     "text": [
      "1  test_accuracy   0.365904761905\n",
      "1  out_accuracy    0.36692074115386997\n",
      "1 train_accuracy 0.411714285714\n",
      "11  test_accuracy   0.702857142857\n",
      "11  out_accuracy    0.56757185961569\n",
      "11 train_accuracy 0.800476190476\n",
      "21  test_accuracy   0.634095238095\n",
      "21  out_accuracy    0.5258412698412699\n",
      "21 train_accuracy 0.788603174603\n",
      "31  test_accuracy   0.774\n",
      "31  out_accuracy    0.682031746031746\n",
      "31 train_accuracy 0.880634920635\n",
      "41  test_accuracy   0.782761904762\n",
      "41  out_accuracy    0.6902857142857143\n",
      "41 train_accuracy 0.90126984127\n",
      "51  test_accuracy   0.822095238095\n",
      "51  out_accuracy    0.7546349206349207\n",
      "51 train_accuracy 0.917746031746\n",
      "61  test_accuracy   0.838761904762\n",
      "61  out_accuracy    0.7678730158730158\n",
      "61 train_accuracy 0.937777777778\n",
      "71  test_accuracy   0.855238095238\n",
      "71  out_accuracy    0.8008571428571428\n",
      "71 train_accuracy 0.946857142857\n",
      "81  test_accuracy   0.859619047619\n",
      "81  out_accuracy    0.806063492063492\n",
      "81 train_accuracy 0.945904761905\n",
      "91  test_accuracy   0.862\n",
      "91  out_accuracy    0.814063492063492\n",
      "91 train_accuracy 0.949841269841\n",
      "101  test_accuracy   0.858857142857\n",
      "101  out_accuracy    0.8145079365079365\n",
      "101 train_accuracy 0.951682539683\n",
      "111  test_accuracy   0.873904761905\n",
      "111  out_accuracy    0.8327619047619048\n",
      "111 train_accuracy 0.957650793651\n"
     ]
    }
   ],
   "source": [
    "avg_imp_10 = {}\n",
    "test_accuracy_10={}\n",
    "out_accuracy_10={}\n",
    "train_accuracy_10={}\n",
    "train_pre_forest_10={}\n",
    "test_pre_forest_10={}\n",
    "    \n",
    "for n_trees in range(1,121,10):\n",
    "    \n",
    "    X={}\n",
    "    y={}\n",
    "    clf={}\n",
    "    feature_imp = defaultdict(list)\n",
    "    features_index={}\n",
    "    test_pre_tree={}\n",
    "\n",
    "    data_index={}\n",
    "    train_pre=[]\n",
    "    train_pre_tree={}\n",
    "\n",
    "    for i in range(1,n_trees+1):\n",
    "        \n",
    "        data_index[i]=np.random.random_integers(0,len(mnist_train_X_classifier)-1, size=21000)\n",
    "        features_index[i]=np.random.random_integers(0,89, size=(int(n_features)))\n",
    "        y[i]=mnist_train_Y[data_index[i]]\n",
    "        temp=mnist_train_X_classifier[data_index[i],:]\n",
    "        X[i]=temp[:,features_index[i]]\n",
    "        clf[i] = DecisionTreeClassifier(max_depth=10,random_state=0)\n",
    "        clf[i].fit(X[i],y[i])\n",
    "        imp=clf[i].feature_importances_ \n",
    "        test_pre_tree[i]=clf[i].predict(mnist_test_X_classifier[:,features_index[i]])\n",
    "        train_pre_tree[i]=clf[i].predict(mnist_train_X_classifier[:,features_index[i]])\n",
    "        \n",
    "        \n",
    "        iti=0;\n",
    "        \n",
    "        for j in features_index[i]:\n",
    "            feature_imp[j].append(imp[iti])\n",
    "            iti=iti+1;\n",
    "            \n",
    "    avg_imp_10[n_trees]=[np.mean(feature_imp[j]) for j in range(0,90)]\n",
    "    \n",
    "    \n",
    "    #Classification Test Error\n",
    "    test_pre=[]\n",
    "    \n",
    "    for j in range(len(mnist_test_Y)):\n",
    "        temp=[];\n",
    "        for i in range(1,n_trees+1):\n",
    "            t=test_pre_tree[i]\n",
    "            temp.append(t[j])\n",
    "        a,b=stats.mode(temp)\n",
    "        test_pre.append(a[0])\n",
    "        \n",
    "        \n",
    "    test_accuracy_10[n_trees]=accuracy_score(mnist_test_Y, test_pre) \n",
    "    test_pre_forest_10[n_trees]=test_pre\n",
    "    \n",
    "    print(n_trees,\" test_accuracy  \", test_accuracy_10[n_trees])\n",
    "    \n",
    "    \n",
    "    \n",
    "    #Out of Bag Accuracy\n",
    "\n",
    "    \n",
    "    to=0;\n",
    "    ind=0\n",
    "    right=0\n",
    "    for j in range(len(mnist_train_X_classifier)):\n",
    "    \n",
    "        out_trees_pre=[]\n",
    "        for i in range(1,n_trees+1):\n",
    "            if j not in data_index[i]:\n",
    "                out_trees_pre.append(clf[i].predict(mnist_train_X_classifier[j,features_index[i]]))\n",
    "        if len(out_trees_pre) != 0:\n",
    "            a,b=stats.mode(out_trees_pre)\n",
    "            to=to+1;\n",
    "            if a[0]==mnist_train_Y[ind]:\n",
    "                right=right+1;\n",
    "        ind=ind+1 \n",
    "        \n",
    "    out_accuracy_10[n_trees]=right/to;\n",
    "    \n",
    "    \n",
    "    print(n_trees,\" out_accuracy   \", out_accuracy_10[n_trees])  \n",
    "        \n",
    "    \n",
    "    # Training Error\n",
    "\n",
    "    \n",
    "    for j in range(len(mnist_train_Y)):\n",
    "        temp=[];\n",
    "        for i in range(1,n_trees+1):\n",
    "            t=train_pre_tree[i]\n",
    "            temp.append(t[j])\n",
    "        a,b=stats.mode(temp)\n",
    "        train_pre.append(a[0]) \n",
    "        \n",
    "    train_accuracy_10[n_trees]=accuracy_score(mnist_train_Y, train_pre) \n",
    "    train_pre_forest_10[n_trees]=train_pre\n",
    "    \n",
    "    print(n_trees,\"train_accuracy\", train_accuracy_10[n_trees])  "
   ]
  },
  {
   "cell_type": "code",
   "execution_count": 34,
   "metadata": {
    "collapsed": true
   },
   "outputs": [],
   "source": [
    "train_accuracy_array=[]\n",
    "test_accuracy_array=[]\n",
    "out_accuracy_array=[]\n",
    "\n",
    "for i in range(1,121,10):\n",
    "    train_accuracy_array.append(train_accuracy_10[i])\n",
    "    test_accuracy_array.append(test_accuracy_10[i])\n",
    "    out_accuracy_array.append(out_accuracy_10[i])"
   ]
  },
  {
   "cell_type": "code",
   "execution_count": 38,
   "metadata": {
    "collapsed": false
   },
   "outputs": [
    {
     "data": {
      "image/png": "[encoded data removed]",
      "text/plain": [
       "<matplotlib.figure.Figure at 0x7f51e46194a8>"
      ]
     },
     "metadata": {},
     "output_type": "display_data"
    }
   ],
   "source": [
    "import matplotlib.pyplot as plt\n",
    "plt.figure(figsize=(10,10))\n",
    "\n",
    "plt.plot(range(1,121,10),train_accuracy_array,marker='o',color='r',label='Training Accuracy')\n",
    "plt.plot(range(1,121,10),test_accuracy_array,marker='*',color='g',label='Test Accuracy')\n",
    "plt.plot(range(1,121,10),out_accuracy_array,marker='+',color='b',label='Out of Bag Accuracy')\n",
    "\n",
    "\n",
    "\n",
    "plt.xlabel('Number of trees used to construct the forest')\n",
    "plt.ylabel('Accuracy')\n",
    "\n",
    "plt.legend()\n",
    "\n",
    "plt.show()"
   ]
  },
  {
   "cell_type": "code",
   "execution_count": 35,
   "metadata": {
    "collapsed": false
   },
   "outputs": [
    {
     "data": {
      "image/png": "[encoded data removed]",
      "text/plain": [
       "<matplotlib.figure.Figure at 0x7f7a13ff4320>"
      ]
     },
     "metadata": {},
     "output_type": "display_data"
    }
   ],
   "source": [
    "import matplotlib.pyplot as plt\n",
    "plt.figure(figsize=(10,10))\n",
    "\n",
    "plt.plot(range(1,91),avg_imp_10[111],marker='o',color='r')\n",
    "plt.xlabel('Feature Number')\n",
    "plt.ylabel('Feature Importance')\n",
    "plt.tight_layout()\n",
    "plt.show()"
   ]
  },
  {
   "cell_type": "code",
   "execution_count": 43,
   "metadata": {
    "collapsed": false
   },
   "outputs": [
    {
     "data": {
      "image/png": "[encoded data removed]",
      "text/plain": [
       "<matplotlib.figure.Figure at 0x7f7a12d410b8>"
      ]
     },
     "metadata": {},
     "output_type": "display_data"
    }
   ],
   "source": [
    "importances=avg_imp_10[111]\n",
    "indices = np.argsort(importances)[::-1]\n",
    "importances=np.sort(importances)[::-1]\n",
    "\n",
    "# Plot the feature importances of the forest\n",
    "plt.figure(figsize=(12,10))\n",
    "plt.title(\"Feature importances\")\n",
    "plt.bar(range(len(importances)), importances,\n",
    "       color=\"r\", align=\"center\")\n",
    "plt.xticks(range(len(importances)), indices+1)\n",
    "plt.xlim([-1, len(importances)])\n",
    "plt.ylim(ymin=0)\n",
    "plt.xlabel('Feature Number')\n",
    "plt.ylabel('Feature Importance')\n",
    "plt.tight_layout()\n",
    "plt.show()"
   ]
  },
  {
   "cell_type": "code",
   "execution_count": 47,
   "metadata": {
    "collapsed": false
   },
   "outputs": [
    {
     "name": "stdout",
     "output_type": "stream",
     "text": [
      "Confusion matrix, without normalization\n",
      "[[ 981    6    5    3    3    2   17    4    4    0]\n",
      " [   1 1132    2    0    3    1    3    3    1    0]\n",
      " [  20   37  879   17   16    3   20   41   17   22]\n",
      " [  14   24   27  951    9   25   10   44   15   32]\n",
      " [   7   23    8    3  858    4   15   13    3   90]\n",
      " [  14   13    3   63    7  712   39   22   11   14]\n",
      " [  18    7    3    3    7   14  954    1    0    3]\n",
      " [   4   27    9    5   15    3    4 1031    4   33]\n",
      " [  23   43    9   55   19   16   19   18  781   22]\n",
      " [   6   14    8   14   25    6    3   56    5  897]]\n"
     ]
    }
   ],
   "source": [
    "cnf_matrix = confusion_matrix(mnist_test_Y, test_pre_forest_10[111],labels=range(0,10))\n",
    "\n",
    "\n",
    "# Plot non-normalized confusion matrix\n",
    "plt.figure()\n",
    "plot_confusion_matrix(cnf_matrix, classes=range(0,10),\n",
    "                      title='Confusion matrix, without normalization')\n"
   ]
  },
  {
   "cell_type": "code",
   "execution_count": 48,
   "metadata": {
    "collapsed": false
   },
   "outputs": [
    {
     "data": {
      "image/png": "[encoded data removed]",
      "text/plain": [
       "<matplotlib.figure.Figure at 0x7f7a1324e4a8>"
      ]
     },
     "metadata": {},
     "output_type": "display_data"
    }
   ],
   "source": [
    "plt.show()"
   ]
  },
  {
   "cell_type": "code",
   "execution_count": 49,
   "metadata": {
    "collapsed": false
   },
   "outputs": [
    {
     "name": "stdout",
     "output_type": "stream",
     "text": [
      "Confusion matrix, without normalization\n",
      "[[3069    9    0    1    2    3   16    5    1    1]\n",
      " [   1 3494   11    4    2    4    4   15    1    2]\n",
      " [   7   47 2942   10    7    0   13   60   12    7]\n",
      " [   8   36   18 3018    3   17    5   50    7   38]\n",
      " [   4   59    5    2 2857    3   12   16    0   90]\n",
      " [  13   18    0   57    8 2726   23   25    9   18]\n",
      " [   4    5    0    0    1   16 3095    5    1    0]\n",
      " [   7   39    5    2   10    1    1 3166    0   35]\n",
      " [  19   60   12   41   18   19   14   27 2812   36]\n",
      " [   5   32    4   26   22    3    1   68    6 2987]]\n"
     ]
    }
   ],
   "source": [
    "cnf_matrix = confusion_matrix(mnist_train_Y, train_pre_forest_10[111],labels=range(0,10))\n",
    "\n",
    "\n",
    "# Plot non-normalized confusion matrix\n",
    "plt.figure()\n",
    "plot_confusion_matrix(cnf_matrix, classes=range(0,10),\n",
    "                      title='Confusion matrix, without normalization')"
   ]
  },
  {
   "cell_type": "code",
   "execution_count": 50,
   "metadata": {
    "collapsed": false
   },
   "outputs": [
    {
     "data": {
      "image/png": "[encoded data removed]",
      "text/plain": [
       "<matplotlib.figure.Figure at 0x7f7a1302ba58>"
      ]
     },
     "metadata": {},
     "output_type": "display_data"
    }
   ],
   "source": [
    "plt.show()"
   ]
  },
  {
   "cell_type": "code",
   "execution_count": null,
   "metadata": {
    "collapsed": true
   },
   "outputs": [],
   "source": []
  }
 ],
 "metadata": {
  "anaconda-cloud": {},
  "kernelspec": {
   "display_name": "Python 3",
   "language": "python",
   "name": "python3"
  },
  "language_info": {
   "codemirror_mode": {
    "name": "ipython",
    "version": 3
   },
   "file_extension": ".py",
   "mimetype": "text/x-python",
   "name": "python",
   "nbconvert_exporter": "python",
   "pygments_lexer": "ipython3",
   "version": "3.6.1"
  }
 },
 "nbformat": 4,
 "nbformat_minor": 1
}
