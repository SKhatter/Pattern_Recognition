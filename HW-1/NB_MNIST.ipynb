{
 "cells": [
  {
   "cell_type": "code",
   "execution_count": 780,
   "metadata": {
    "collapsed": false
   },
   "outputs": [],
   "source": [
    "import numpy as np\n",
    "from sklearn.model_selection import train_test_split\n",
    "import csv\n",
    "import random\n",
    "import math\n",
    "import statistics\n",
    "from sklearn.preprocessing import StandardScaler\n",
    "import pandas as pd\n",
    "from sklearn.metrics import confusion_matrix\n",
    "import pylab as pl\n",
    "import seaborn as sns\n",
    "import matplotlib as mpl\n",
    "import matplotlib.pyplot as plt\n",
    "import itertools"
   ]
  },
  {
   "cell_type": "code",
   "execution_count": 781,
   "metadata": {
    "collapsed": false
   },
   "outputs": [],
   "source": [
    "def loadCSV(filename):\n",
    "    lines = csv.reader(open(filename))\n",
    "    dataset = list(lines)\n",
    "    for i in range(len(dataset)):\n",
    "        dataset[i] = [float(x) for x in dataset[i]]\n",
    "    dataset = np.asarray(dataset)\n",
    "    dataset = dataset.T\n",
    "    dataset = dataset.tolist()\n",
    "    return dataset"
   ]
  },
  {
   "cell_type": "code",
   "execution_count": 782,
   "metadata": {
    "collapsed": false
   },
   "outputs": [],
   "source": [
    "def makeBinary(dataset,labels):\n",
    "    new = []\n",
    "    for i in range(len(dataset)):\n",
    "        vector = dataset[i]\n",
    "        if any (vector[-1] == label  for label in labels):\n",
    "            new.append(vector)\n",
    "    return new"
   ]
  },
  {
   "cell_type": "code",
   "execution_count": 783,
   "metadata": {
    "collapsed": true
   },
   "outputs": [],
   "source": [
    "def calculatePrior(dataset, labels):\n",
    "    label = labels[1]\n",
    "    total = len(dataset)\n",
    "    X = np.asarray(dataset)\n",
    "    X = X[:,:1]\n",
    "    X = X.flatten()\n",
    "    X = X.tolist()\n",
    "    prior = X.count(float(label))\n",
    "    prior = prior/total\n",
    "    return prior"
   ]
  },
  {
   "cell_type": "code",
   "execution_count": 784,
   "metadata": {
    "collapsed": true
   },
   "outputs": [],
   "source": [
    "def doStandardScaling(dataset):\n",
    "    dataset = np.asarray(dataset)\n",
    "    labels  = dataset[:,-1]\n",
    "    features = dataset[:,:-1]\n",
    "    X_r = pd.DataFrame(StandardScaler().fit_transform(features))\n",
    "    data = X_r.as_matrix()\n",
    "    labels = np.array(labels)\n",
    "    labels = np.reshape(labels, (labels.size,1))\n",
    "    data = np.hstack((labels, data))\n",
    "    return data"
   ]
  },
  {
   "cell_type": "code",
   "execution_count": 785,
   "metadata": {
    "collapsed": false
   },
   "outputs": [],
   "source": [
    "def separateByClass(dataset):\n",
    "    separated = {}\n",
    "    for i in range(len(dataset)):\n",
    "        vector = dataset[i]\n",
    "        if (vector[0] not in separated):\n",
    "            separated[vector[0]] = []\n",
    "        separated[vector[0]].append(vector)\n",
    "    return separated"
   ]
  },
  {
   "cell_type": "code",
   "execution_count": 786,
   "metadata": {
    "collapsed": true
   },
   "outputs": [],
   "source": [
    "def varianceFeatures(dataset):\n",
    "    var = []\n",
    "    for attribute in zip(*dataset):\n",
    "        var.append(statistics.variance(attribute))\n",
    "    return var"
   ]
  },
  {
   "cell_type": "code",
   "execution_count": 787,
   "metadata": {
    "collapsed": true
   },
   "outputs": [],
   "source": [
    "def meanFeatures(dataset):\n",
    "    meanFeatures = [(statistics.mean(attribute)) for attribute in zip(*dataset)]\n",
    "    return meanFeatures"
   ]
  },
  {
   "cell_type": "code",
   "execution_count": 788,
   "metadata": {
    "collapsed": true
   },
   "outputs": [],
   "source": [
    "def summarizeByClass(dataset):\n",
    "    separated = separateByClass(dataset)\n",
    "    meanFeaturesClass = {}\n",
    "    for classValue, instances in separated.items():\n",
    "        meanFeaturesClass[classValue] = meanFeatures(instances)  \n",
    "    return meanFeaturesClass"
   ]
  },
  {
   "cell_type": "code",
   "execution_count": 789,
   "metadata": {
    "collapsed": false
   },
   "outputs": [],
   "source": [
    "def calculateWeights(mean, variance , labels):\n",
    "    weights = []\n",
    "    for index in range (len(variance)):\n",
    "        weights.append((mean[labels[0]][index] - mean[labels[1]][index])/(1 + variance[index]))\n",
    "    return weights"
   ]
  },
  {
   "cell_type": "code",
   "execution_count": 790,
   "metadata": {
    "collapsed": true
   },
   "outputs": [],
   "source": [
    "def calculateWeightZero(prior, mean, variance, labels):\n",
    "    weightZero = math.log((1-prior)/prior)\n",
    "    for i in range(len(variance)):\n",
    "        weightZero = weightZero + ((mean[labels[0]][i]*mean[labels[0]][i] - mean[labels[1]][i]*mean[labels[1]][i])/(1 + 2*variance[i]))\n",
    "    return weightZero        "
   ]
  },
  {
   "cell_type": "code",
   "execution_count": 791,
   "metadata": {
    "collapsed": false
   },
   "outputs": [],
   "source": [
    "def calculatePosteriorProbabilities(weight0, weights, inputVector, labels):\n",
    "    prob = {}\n",
    "    prob[labels[0]] = []\n",
    "    prob[labels[1]] = []\n",
    "    numerator = 0\n",
    "    for i in range(len(weights)):\n",
    "        numerator = numerator +  weights[i]*inputVector[i]\n",
    "    num = math.exp(weight0 + numerator)\n",
    "    prob[labels[0]].append((num/(1+num)))\n",
    "    prob[labels[1]].append(1/(1+num))    \n",
    "    return prob"
   ]
  },
  {
   "cell_type": "code",
   "execution_count": 792,
   "metadata": {
    "collapsed": true
   },
   "outputs": [],
   "source": [
    "def predict(weight0, weights, inputVector, labels):\n",
    "    probs = calculatePosteriorProbabilities(weight0, weights, inputVector, labels)\n",
    "    bestLabel, bestProb = None, -1\n",
    "    for label, p in probs.items():\n",
    "        if bestLabel is None or p > bestProb:\n",
    "            bestProb = p\n",
    "            bestLabel = label\n",
    "    return bestLabel"
   ]
  },
  {
   "cell_type": "code",
   "execution_count": 793,
   "metadata": {
    "collapsed": true
   },
   "outputs": [],
   "source": [
    "def getPredictions(weight0, weights, testSet, labels):\n",
    "    predictions = []\n",
    "    for i in range(len(testSet)):\n",
    "        result = predict(weight0, weights, testSet[i], labels)\n",
    "        predictions.append(result)\n",
    "    return predictions"
   ]
  },
  {
   "cell_type": "code",
   "execution_count": 794,
   "metadata": {
    "collapsed": true
   },
   "outputs": [],
   "source": [
    "def getAccuracy(testSet, predictions):\n",
    "    correct = 0\n",
    "    for i in range(len(testSet)):\n",
    "        if testSet[i][0] == predictions[i]:\n",
    "            correct += 1\n",
    "    return (correct/float(len(testSet))) * 100.0"
   ]
  },
  {
   "cell_type": "code",
   "execution_count": 795,
   "metadata": {
    "collapsed": false
   },
   "outputs": [],
   "source": [
    "def plot_confusion_matrix(cm, classes,\n",
    "                          normalize=False,\n",
    "                          title='Confusion matrix',\n",
    "                          cmap=plt.cm.Blues):\n",
    "    \"\"\"\n",
    "    This function prints and plots the confusion matrix.\n",
    "    Normalization can be applied by setting `normalize=True`.\n",
    "    \"\"\"\n",
    "    plt.imshow(cm, interpolation='nearest', cmap=cmap)\n",
    "    plt.title(title)\n",
    "    plt.colorbar()\n",
    "    tick_marks = np.arange(len(classes))\n",
    "    plt.xticks(tick_marks, classes, rotation=45)\n",
    "    plt.yticks(tick_marks, classes)\n",
    "\n",
    "    if normalize:\n",
    "        cm = cm.astype('float') / cm.sum(axis=1)[:, np.newaxis]\n",
    "        print(\"Normalized confusion matrix\")\n",
    "    else:\n",
    "        print('Confusion matrix')\n",
    "\n",
    "    print(cm)\n",
    "\n",
    "    thresh = cm.max() / 2.\n",
    "    for i, j in itertools.product(range(cm.shape[0]), range(cm.shape[1])):\n",
    "        plt.text(j, i, cm[i, j],\n",
    "                 horizontalalignment=\"center\",\n",
    "                 color=\"white\" if cm[i, j] > thresh else \"black\")\n",
    "\n",
    "    plt.tight_layout()\n",
    "    plt.ylabel('True label')\n",
    "    plt.xlabel('Predicted label')\n",
    " \n"
   ]
  },
  {
   "cell_type": "code",
   "execution_count": 797,
   "metadata": {
    "collapsed": false,
    "scrolled": false
   },
   "outputs": [
    {
     "name": "stdout",
     "output_type": "stream",
     "text": [
      "Using MNIST dataset\n",
      "Accuracy score for 0|1\n",
      "99.52718676122932\n",
      "Confusion matrix\n",
      "[[ 973    7]\n",
      " [   3 1132]]\n"
     ]
    },
    {
     "data": {
      "image/png": "[encoded data removed]",
      "text/plain": [
       "<matplotlib.figure.Figure at 0x7f731bf36630>"
      ]
     },
     "metadata": {},
     "output_type": "display_data"
    },
    {
     "name": "stdout",
     "output_type": "stream",
     "text": [
      "Accuracy score for 3|5\n",
      "84.27970557308096\n",
      "Confusion matrix\n",
      "[[728 282]\n",
      " [ 17 875]]\n"
     ]
    },
    {
     "data": {
      "image/png": "[encoded data removed]",
      "text/plain": [
       "<matplotlib.figure.Figure at 0x7f7336c48550>"
      ]
     },
     "metadata": {},
     "output_type": "display_data"
    }
   ],
   "source": [
    "def main():\n",
    "    \n",
    "    print('Using MNIST dataset')\n",
    "    filename = 'train.csv'\n",
    "    trainingSet = loadCSV(filename)\n",
    "    #select first two classes\n",
    "    labels = [0,1]\n",
    "    trainingSet = makeBinary(trainingSet, labels)\n",
    "    #print(len(trainingSet))\n",
    "    trainingSet = doStandardScaling(trainingSet)\n",
    "    \n",
    "    \n",
    "    filename2 = 'test.csv'\n",
    "    testSet = loadCSV(filename2)\n",
    "    testSet = makeBinary(testSet, labels)\n",
    "    testSet = doStandardScaling(testSet)\n",
    "    \n",
    "    \n",
    "    # prepare model\n",
    "    summaries = summarizeByClass(trainingSet)\n",
    "    var = varianceFeatures(trainingSet)\n",
    "    prior = calculatePrior(trainingSet, labels)\n",
    "    weights = calculateWeights(summaries, var, labels)\n",
    "    weight0 = calculateWeightZero(prior, summaries, var , labels)\n",
    "    predictions = getPredictions(weight0, weights, testSet, labels)\n",
    "    accuracy1 = getAccuracy(testSet, predictions)\n",
    "    print('Accuracy score for 0|1')\n",
    "    print(accuracy1)\n",
    "    \n",
    "    \n",
    "    Y = np.asarray(testSet)\n",
    "    Y = Y[:,:1]\n",
    "    Y_test = Y.tolist()\n",
    "    accuracy = confusion_matrix(Y_test,predictions)\n",
    "    classes = ['Class 1', 'Class 2']\n",
    "    plt.figure()\n",
    "    plot_confusion_matrix(accuracy, classes=classes,title='Confusion matrix')\n",
    "    plt.show()\n",
    "    \n",
    "    \n",
    "    filename = 'train.csv'\n",
    "    trainingSet = loadCSV(filename)\n",
    "    #select first two classes\n",
    "    labels = [3,5]\n",
    "    trainingSet = makeBinary(trainingSet, labels)\n",
    "    #print(len(trainingSet))\n",
    "    trainingSet = doStandardScaling(trainingSet)\n",
    "    \n",
    "    \n",
    "    filename2 = 'test.csv'\n",
    "    testSet = loadCSV(filename2)\n",
    "    testSet = makeBinary(testSet, labels)\n",
    "    testSet = doStandardScaling(testSet)\n",
    "    \n",
    "    \n",
    "    # prepare model\n",
    "    summaries = summarizeByClass(trainingSet)\n",
    "    var = varianceFeatures(trainingSet)\n",
    "    prior = calculatePrior(trainingSet, labels)\n",
    "    weights = calculateWeights(summaries, var, labels)\n",
    "    weight0 = calculateWeightZero(prior, summaries, var , labels)\n",
    "    predictions = getPredictions(weight0, weights, testSet, labels)\n",
    "    accuracy1 = getAccuracy(testSet, predictions)\n",
    "    print('Accuracy score for 3|5')\n",
    "    print(accuracy1)\n",
    "    \n",
    "    \n",
    "    Y = np.asarray(testSet)\n",
    "    Y = Y[:,:1]\n",
    "    Y_test = Y.tolist()\n",
    "    accuracy = confusion_matrix(Y_test,predictions)\n",
    "    classes = ['Class 1', 'Class 2']\n",
    "    plt.figure()\n",
    "    plot_confusion_matrix(accuracy, classes=classes,title='Confusion matrix')\n",
    "    plt.show()\n",
    "    \n",
    "    \n",
    "main()"
   ]
  },
  {
   "cell_type": "markdown",
   "metadata": {},
   "source": []
  },
  {
   "cell_type": "code",
   "execution_count": null,
   "metadata": {
    "collapsed": false
   },
   "outputs": [],
   "source": []
  },
  {
   "cell_type": "code",
   "execution_count": null,
   "metadata": {
    "collapsed": true
   },
   "outputs": [],
   "source": []
  }
 ],
 "metadata": {
  "anaconda-cloud": {},
  "kernelspec": {
   "display_name": "Python 3",
   "language": "python",
   "name": "python3"
  },
  "language_info": {
   "codemirror_mode": {
    "name": "ipython",
    "version": 3
   },
   "file_extension": ".py",
   "mimetype": "text/x-python",
   "name": "python",
   "nbconvert_exporter": "python",
   "pygments_lexer": "ipython3",
   "version": "3.4.3"
  }
 },
 "nbformat": 4,
 "nbformat_minor": 1
}
