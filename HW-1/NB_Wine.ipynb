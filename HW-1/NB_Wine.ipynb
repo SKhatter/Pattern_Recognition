{
 "cells": [
  {
   "cell_type": "code",
   "execution_count": 411,
   "metadata": {
    "collapsed": false
   },
   "outputs": [],
   "source": [
    "import numpy as np\n",
    "from sklearn.model_selection import train_test_split\n",
    "import csv\n",
    "import random\n",
    "import math\n",
    "import statistics\n",
    "from sklearn.preprocessing import StandardScaler\n",
    "import pandas as pd\n",
    "from sklearn.metrics import confusion_matrix\n",
    "import pylab as pl\n",
    "import seaborn as sns\n",
    "import matplotlib as mpl\n",
    "import matplotlib.pyplot as plt\n",
    "import itertools"
   ]
  },
  {
   "cell_type": "code",
   "execution_count": 412,
   "metadata": {
    "collapsed": true
   },
   "outputs": [],
   "source": [
    "def loadCSV(filename):\n",
    "    lines = csv.reader(open(filename))\n",
    "    dataset = list(lines)\n",
    "    for i in range(len(dataset)):\n",
    "        dataset[i] = [float(x) for x in dataset[i]]\n",
    "    return dataset"
   ]
  },
  {
   "cell_type": "code",
   "execution_count": 413,
   "metadata": {
    "collapsed": false
   },
   "outputs": [],
   "source": [
    "def makeBinary(dataset, labels):\n",
    "    new = []\n",
    "    for i in range(len(dataset)):\n",
    "        vector = dataset[i]\n",
    "        if any (vector[0] == label  for label in labels):\n",
    "            new.append(vector)\n",
    "    return new"
   ]
  },
  {
   "cell_type": "code",
   "execution_count": 414,
   "metadata": {
    "collapsed": false
   },
   "outputs": [],
   "source": [
    "def takePredefinedNoSamplesTrain(dataset, number, labels):\n",
    "    new = []\n",
    "    new1 = []\n",
    "    copy = []\n",
    "    for i in range(len(dataset)):\n",
    "        vector = dataset[i]\n",
    "        if vector[0] == labels[0]:\n",
    "            copy.append(vector)\n",
    "            \n",
    "    while len(new) < number:\n",
    "        index = random.randrange(len(copy))\n",
    "        vector = copy[index]\n",
    "        new.append(copy.pop(index))\n",
    "        \n",
    "    for i in range(len(dataset)):\n",
    "        vector = dataset[i]\n",
    "        if vector[0] == labels[1]:\n",
    "            new1.append(vector)\n",
    "            copy.append(vector)\n",
    "    \n",
    "    while len(new) < 2*number:\n",
    "        index = random.randrange(len(new1))\n",
    "        vector = new1[index]\n",
    "        new.append(new1.pop(index))\n",
    "        copy.remove(vector)\n",
    "        \n",
    "    return [new, copy] "
   ]
  },
  {
   "cell_type": "code",
   "execution_count": 540,
   "metadata": {
    "collapsed": true
   },
   "outputs": [],
   "source": [
    "def prepareCrossValidationSets(dataset, ratio):\n",
    "    data = {}\n",
    "    i = 0\n",
    "    trainSize = int(len(dataset))*ratio\n",
    "    for i in range(10):\n",
    "        trainset = []\n",
    "        copy = list(dataset)\n",
    "        while len(trainset) < trainSize:\n",
    "            data[i] = []\n",
    "            index = random.randrange(len(copy))\n",
    "            trainset.append(copy.pop(index))\n",
    "            data[i].append(trainset)\n",
    "            data[i].append(copy)\n",
    "        i= i+1\n",
    "    return data"
   ]
  },
  {
   "cell_type": "code",
   "execution_count": 556,
   "metadata": {
    "collapsed": true
   },
   "outputs": [],
   "source": [
    "def calculatePrior(dataset, labels):\n",
    "    label = labels[1]\n",
    "    total = len(dataset)\n",
    "    X = np.asarray(dataset)\n",
    "    X = X[:,:1]\n",
    "    X = X.flatten()\n",
    "    X = X.tolist()\n",
    "    prior = X.count(float(label))\n",
    "    prior = prior/total\n",
    "    return prior"
   ]
  },
  {
   "cell_type": "code",
   "execution_count": 557,
   "metadata": {
    "collapsed": true
   },
   "outputs": [],
   "source": [
    "def doStandardScaling(dataset):\n",
    "    dataset = np.asarray(dataset)\n",
    "    labels  = dataset[:,:1]\n",
    "    features = dataset[:,1:]\n",
    "    X_r = pd.DataFrame(StandardScaler().fit_transform(features))\n",
    "    X=np.append(labels,X_r, axis = 1)\n",
    "    data = X.tolist()\n",
    "    return data"
   ]
  },
  {
   "cell_type": "code",
   "execution_count": 558,
   "metadata": {
    "collapsed": false
   },
   "outputs": [],
   "source": [
    "def separateByClass(dataset):\n",
    "    separated = {}\n",
    "    for i in range(len(dataset)):\n",
    "        vector = dataset[i]\n",
    "        if (vector[0] not in separated):\n",
    "            separated[vector[0]] = []\n",
    "        separated[vector[0]].append(vector)\n",
    "    return separated"
   ]
  },
  {
   "cell_type": "code",
   "execution_count": 559,
   "metadata": {
    "collapsed": true
   },
   "outputs": [],
   "source": [
    "def varianceFeatures(dataset):\n",
    "    var = []\n",
    "    for attribute in zip(*dataset):\n",
    "        var.append(statistics.variance(attribute))\n",
    "    del var[0]\n",
    "    return var"
   ]
  },
  {
   "cell_type": "code",
   "execution_count": 560,
   "metadata": {
    "collapsed": true
   },
   "outputs": [],
   "source": [
    "def meanFeatures(dataset):\n",
    "    meanFeatures = [(statistics.mean(attribute)) for attribute in zip(*dataset)]\n",
    "    del meanFeatures[0]\n",
    "    return meanFeatures"
   ]
  },
  {
   "cell_type": "code",
   "execution_count": 561,
   "metadata": {
    "collapsed": true
   },
   "outputs": [],
   "source": [
    "def summarizeByClass(dataset):\n",
    "    separated = separateByClass(dataset)\n",
    "    meanFeaturesClass = {}\n",
    "    for classValue, instances in separated.items():\n",
    "        meanFeaturesClass[classValue] = meanFeatures(instances)  \n",
    "    return meanFeaturesClass"
   ]
  },
  {
   "cell_type": "code",
   "execution_count": 562,
   "metadata": {
    "collapsed": false
   },
   "outputs": [],
   "source": [
    "def calculateWeights(mean, variance):\n",
    "    weights = []\n",
    "    for index in range (len(variance)):\n",
    "        weights.append((mean[1][index] - mean[2][index])/(variance[index]))\n",
    "    return weights"
   ]
  },
  {
   "cell_type": "code",
   "execution_count": 563,
   "metadata": {
    "collapsed": true
   },
   "outputs": [],
   "source": [
    "def calculateWeightZero(prior, mean, variance):\n",
    "    weightZero = math.log((1-prior)/prior)\n",
    "    for i in range(len(variance)):\n",
    "        weightZero = weightZero + ((mean[1][i]*mean[1][i] - mean[2][i]*mean[2][i])/(2*variance[i]))\n",
    "    return weightZero        "
   ]
  },
  {
   "cell_type": "code",
   "execution_count": 564,
   "metadata": {
    "collapsed": false
   },
   "outputs": [],
   "source": [
    "def calculatePosteriorProbabilities(weight0, weights, inputVector):\n",
    "    labels = [1.0,2.0]\n",
    "    prob = {}\n",
    "    prob[labels[0]] = []\n",
    "    prob[labels[1]] = []\n",
    "    numerator = 0\n",
    "    for i in range(len(weights)):\n",
    "        numerator = numerator +  weights[i]*inputVector[i+1]\n",
    "    num = math.exp(weight0 + numerator)\n",
    "    prob[labels[0]].append((num/(1+num)))\n",
    "    prob[labels[1]].append(1/(1+num))    \n",
    "    return prob"
   ]
  },
  {
   "cell_type": "code",
   "execution_count": 565,
   "metadata": {
    "collapsed": true
   },
   "outputs": [],
   "source": [
    "def predict(weight0, weights, inputVector):\n",
    "    probs = calculatePosteriorProbabilities(weight0, weights, inputVector)\n",
    "    bestLabel, bestProb = None, -1\n",
    "    for label, p in probs.items():\n",
    "        if bestLabel is None or p > bestProb:\n",
    "            bestProb = p\n",
    "            bestLabel = label\n",
    "    return bestLabel"
   ]
  },
  {
   "cell_type": "code",
   "execution_count": 566,
   "metadata": {
    "collapsed": true
   },
   "outputs": [],
   "source": [
    "def getPredictions(weight0, weights, testSet):\n",
    "    predictions = []\n",
    "    for i in range(len(testSet)):\n",
    "        result = predict(weight0, weights, testSet[i])\n",
    "        predictions.append(result)\n",
    "    return predictions"
   ]
  },
  {
   "cell_type": "code",
   "execution_count": 567,
   "metadata": {
    "collapsed": true
   },
   "outputs": [],
   "source": [
    "def getAccuracy(testSet, predictions):\n",
    "    correct = 0\n",
    "    for i in range(len(testSet)):\n",
    "        if testSet[i][0] == predictions[i]:\n",
    "            correct += 1\n",
    "    return (correct/float(len(testSet))) * 100.0"
   ]
  },
  {
   "cell_type": "code",
   "execution_count": 568,
   "metadata": {
    "collapsed": true
   },
   "outputs": [],
   "source": [
    "def plot_confusion_matrix(cm, classes,\n",
    "                          normalize=False,\n",
    "                          title='Confusion matrix',\n",
    "                          cmap=plt.cm.Blues):\n",
    "    \"\"\"\n",
    "    This function prints and plots the confusion matrix.\n",
    "    Normalization can be applied by setting `normalize=True`.\n",
    "    \"\"\"\n",
    "    plt.imshow(cm, interpolation='nearest', cmap=cmap)\n",
    "    plt.title(title)\n",
    "    plt.colorbar()\n",
    "    tick_marks = np.arange(len(classes))\n",
    "    plt.xticks(tick_marks, classes, rotation=45)\n",
    "    plt.yticks(tick_marks, classes)\n",
    "\n",
    "    if normalize:\n",
    "        cm = cm.astype('float') / cm.sum(axis=1)[:, np.newaxis]\n",
    "        print(\"Normalized confusion matrix\")\n",
    "    else:\n",
    "        print('Confusion matrix')\n",
    "\n",
    "    print(cm)\n",
    "\n",
    "    thresh = cm.max() / 2.\n",
    "    for i, j in itertools.product(range(cm.shape[0]), range(cm.shape[1])):\n",
    "        plt.text(j, i, cm[i, j],\n",
    "                 horizontalalignment=\"center\",\n",
    "                 color=\"white\" if cm[i, j] > thresh else \"black\")\n",
    "\n",
    "    plt.tight_layout()\n",
    "    plt.ylabel('True label')\n",
    "    plt.xlabel('Predicted label')\n",
    " \n"
   ]
  },
  {
   "cell_type": "code",
   "execution_count": 575,
   "metadata": {
    "collapsed": false,
    "scrolled": false
   },
   "outputs": [
    {
     "name": "stdout",
     "output_type": "stream",
     "text": [
      "Using Wine dataset\n",
      "With 5 samples for each class\n",
      "130 10 120\n",
      "Accuracy score:\n",
      "95.83333333333334\n",
      "Confusion matrix\n",
      "[[54  0]\n",
      " [ 5 61]]\n"
     ]
    },
    {
     "data": {
      "image/png": "[encoded data removed]",
      "text/plain": [
       "<matplotlib.figure.Figure at 0x7f7df119f208>"
      ]
     },
     "metadata": {},
     "output_type": "display_data"
    },
    {
     "name": "stdout",
     "output_type": "stream",
     "text": [
      "Split rows into train and test rows\n",
      "130 100 30\n",
      "Accuracy Score:\n",
      "96.66666666666667\n",
      "Confusion matrix\n",
      "[[ 9  0]\n",
      " [ 1 20]]\n"
     ]
    },
    {
     "data": {
      "image/png": "[encoded data removed]",
      "text/plain": [
       "<matplotlib.figure.Figure at 0x7f7df54f2cf8>"
      ]
     },
     "metadata": {},
     "output_type": "display_data"
    },
    {
     "name": "stdout",
     "output_type": "stream",
     "text": [
      "10 - fold cross Validation\n",
      "K- Validation Accuracy- Scores\n",
      "[100.0, 92.3076923076923, 100.0, 100.0, 84.61538461538461, 92.3076923076923, 100.0, 100.0, 100.0, 92.3076923076923]\n",
      "Average\n",
      "96.15384615384615\n"
     ]
    }
   ],
   "source": [
    "def main():\n",
    "    print('Using Wine dataset')\n",
    "    filename = 'wine.data.txt'\n",
    "    dataset = loadCSV(filename)\n",
    "    #select first two classes\n",
    "    labels = [1,2]\n",
    "    dataset = makeBinary(dataset, labels)\n",
    "    #print(dataset)\n",
    "    dataset = doStandardScaling(dataset)\n",
    "    #print(dataset)\n",
    "    trainingSet, testSet = takePredefinedNoSamplesTrain(dataset, 5, labels)\n",
    "    print('With 5 samples for each class')\n",
    "    print(len(dataset), len(trainingSet), len(testSet))\n",
    "  \n",
    "    # prepare model\n",
    "    summaries = summarizeByClass(trainingSet)\n",
    "    var = varianceFeatures(dataset)\n",
    "    prior = calculatePrior(trainingSet, labels)\n",
    "    weights = calculateWeights(summaries, var)\n",
    "    weight0 = calculateWeightZero(prior, summaries, var)\n",
    "    predictions = getPredictions(weight0, weights, testSet)\n",
    "    accuracy1 = getAccuracy(testSet, predictions)\n",
    "   \n",
    "    print('Accuracy score:')\n",
    "    print(accuracy1)\n",
    "    \n",
    "    Y = np.asarray(testSet)\n",
    "    Y = Y[:,:1]\n",
    "    Y_test = Y.tolist()\n",
    "    accuracy = confusion_matrix(Y_test,predictions)\n",
    "    classes = ['Class 1', 'Class 2']\n",
    "    plt.figure()\n",
    "    plot_confusion_matrix(accuracy, classes=classes,title='Confusion matrix')\n",
    "    plt.show()\n",
    "    \n",
    "    \n",
    "    \n",
    "    \n",
    "\n",
    "    \n",
    "    trainingSet, testSet = takePredefinedNoSamplesTrain(dataset, 50, labels)\n",
    "   \n",
    "    print('Split rows into train and test rows')\n",
    "    print(len(dataset), len(trainingSet), len(testSet))\n",
    "    \n",
    "    \n",
    "    summaries = summarizeByClass(trainingSet)\n",
    "    var = varianceFeatures(dataset)\n",
    "    prior = calculatePrior(trainingSet, labels)\n",
    "    weights = calculateWeights(summaries, var)\n",
    "    weight0 = calculateWeightZero(prior, summaries, var)\n",
    "    predictions = getPredictions(weight0, weights, testSet)\n",
    "    accuracy2 = getAccuracy(testSet, predictions)\n",
    "    \n",
    "    \n",
    "   \n",
    "    \n",
    "    \n",
    "    print('Accuracy Score:')\n",
    "    print(accuracy2)\n",
    "    \n",
    "    \n",
    "    \n",
    "    Y = np.asarray(testSet)\n",
    "    Y = Y[:,:1]\n",
    "    Y_test = Y.tolist()\n",
    "    accuracy = confusion_matrix(Y_test,predictions)\n",
    "    classes = ['Class 1', 'Class 2']\n",
    "    plt.figure()\n",
    "    plot_confusion_matrix(accuracy, classes=classes,title='Confusion matrix')\n",
    "    plt.show()\n",
    "    \n",
    "    \n",
    "    print('10 - fold cross Validation')\n",
    "    data = prepareCrossValidationSets(dataset, 0.9)\n",
    "    KAccuracy = []\n",
    "    index = 0\n",
    "    for i in range(10):\n",
    "        trainingSet = data[index][0]\n",
    "        testSet = data[index][1]   \n",
    "        # prepare model\n",
    "        summaries = summarizeByClass(trainingSet)\n",
    "        var = varianceFeatures(dataset)\n",
    "        prior = calculatePrior(trainingSet, labels)\n",
    "        weights = calculateWeights(summaries, var)\n",
    "        weight0 = calculateWeightZero(prior, summaries, var)\n",
    "        predictions = getPredictions(weight0, weights, testSet)\n",
    "        accuracy = getAccuracy(testSet, predictions)\n",
    "        KAccuracy.append(accuracy)\n",
    "        index = index + 1\n",
    "    print('K- Validation Accuracy- Scores')\n",
    "    print(KAccuracy)\n",
    "    print('Average')\n",
    "    print(sum(KAccuracy) / float(len(KAccuracy)))\n",
    "\n",
    "main()"
   ]
  },
  {
   "cell_type": "code",
   "execution_count": null,
   "metadata": {
    "collapsed": false
   },
   "outputs": [],
   "source": [
    "\n"
   ]
  }
 ],
 "metadata": {
  "anaconda-cloud": {},
  "kernelspec": {
   "display_name": "Python [default]",
   "language": "python",
   "name": "python3"
  },
  "language_info": {
   "codemirror_mode": {
    "name": "ipython",
    "version": 3
   },
   "file_extension": ".py",
   "mimetype": "text/x-python",
   "name": "python",
   "nbconvert_exporter": "python",
   "pygments_lexer": "ipython3",
   "version": "3.5.2"
  }
 },
 "nbformat": 4,
 "nbformat_minor": 1
}
